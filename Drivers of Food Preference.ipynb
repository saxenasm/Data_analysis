{
 "cells": [
  {
   "cell_type": "markdown",
   "id": "b5b290e5",
   "metadata": {},
   "source": [
    "# 1. Exploratory Data Analysis"
   ]
  },
  {
   "cell_type": "markdown",
   "id": "5ba3d573",
   "metadata": {},
   "source": [
    "# 1.1 ********************************Impact of GPA on employment********************************"
   ]
  },
  {
   "cell_type": "code",
   "execution_count": 3,
   "id": "82ff8f83",
   "metadata": {},
   "outputs": [],
   "source": [
    "# Reading the data\n",
    "import pandas as pd\n",
    "df=pd.read_csv(\"C:\\\\Users\\\\user\\\\OneDrive\\\\Desktop\\\\food.csv\")"
   ]
  },
  {
   "cell_type": "code",
   "execution_count": 176,
   "id": "7449643a",
   "metadata": {},
   "outputs": [
    {
     "data": {
      "text/html": [
       "<div>\n",
       "<style scoped>\n",
       "    .dataframe tbody tr th:only-of-type {\n",
       "        vertical-align: middle;\n",
       "    }\n",
       "\n",
       "    .dataframe tbody tr th {\n",
       "        vertical-align: top;\n",
       "    }\n",
       "\n",
       "    .dataframe thead th {\n",
       "        text-align: right;\n",
       "    }\n",
       "</style>\n",
       "<table border=\"1\" class=\"dataframe\">\n",
       "  <thead>\n",
       "    <tr style=\"text-align: right;\">\n",
       "      <th></th>\n",
       "      <th>GPA</th>\n",
       "      <th>Gender</th>\n",
       "      <th>breakfast</th>\n",
       "      <th>calories_chicken</th>\n",
       "      <th>calories_day</th>\n",
       "      <th>calories_scone</th>\n",
       "      <th>coffee</th>\n",
       "      <th>comfort_food</th>\n",
       "      <th>comfort_food_reasons</th>\n",
       "      <th>comfort_food_reasons_coded</th>\n",
       "      <th>...</th>\n",
       "      <th>soup</th>\n",
       "      <th>sports</th>\n",
       "      <th>thai_food</th>\n",
       "      <th>tortilla_calories</th>\n",
       "      <th>turkey_calories</th>\n",
       "      <th>type_sports</th>\n",
       "      <th>veggies_day</th>\n",
       "      <th>vitamins</th>\n",
       "      <th>waffle_calories</th>\n",
       "      <th>weight</th>\n",
       "    </tr>\n",
       "  </thead>\n",
       "  <tbody>\n",
       "    <tr>\n",
       "      <th>0</th>\n",
       "      <td>2.400</td>\n",
       "      <td>2</td>\n",
       "      <td>1</td>\n",
       "      <td>430</td>\n",
       "      <td>NaN</td>\n",
       "      <td>315.0</td>\n",
       "      <td>1</td>\n",
       "      <td>none</td>\n",
       "      <td>we dont have comfort</td>\n",
       "      <td>9.0</td>\n",
       "      <td>...</td>\n",
       "      <td>1.0</td>\n",
       "      <td>1.0</td>\n",
       "      <td>1</td>\n",
       "      <td>1165.0</td>\n",
       "      <td>345</td>\n",
       "      <td>car racing</td>\n",
       "      <td>5</td>\n",
       "      <td>1</td>\n",
       "      <td>1315</td>\n",
       "      <td>187</td>\n",
       "    </tr>\n",
       "    <tr>\n",
       "      <th>1</th>\n",
       "      <td>3.654</td>\n",
       "      <td>1</td>\n",
       "      <td>1</td>\n",
       "      <td>610</td>\n",
       "      <td>3.0</td>\n",
       "      <td>420.0</td>\n",
       "      <td>2</td>\n",
       "      <td>chocolate, chips, ice cream</td>\n",
       "      <td>Stress, bored, anger</td>\n",
       "      <td>1.0</td>\n",
       "      <td>...</td>\n",
       "      <td>1.0</td>\n",
       "      <td>1.0</td>\n",
       "      <td>2</td>\n",
       "      <td>725.0</td>\n",
       "      <td>690</td>\n",
       "      <td>Basketball</td>\n",
       "      <td>4</td>\n",
       "      <td>2</td>\n",
       "      <td>900</td>\n",
       "      <td>155</td>\n",
       "    </tr>\n",
       "  </tbody>\n",
       "</table>\n",
       "<p>2 rows × 61 columns</p>\n",
       "</div>"
      ],
      "text/plain": [
       "     GPA  Gender  breakfast  calories_chicken  calories_day  calories_scone  \\\n",
       "0  2.400       2          1               430           NaN           315.0   \n",
       "1  3.654       1          1               610           3.0           420.0   \n",
       "\n",
       "   coffee                 comfort_food   comfort_food_reasons  \\\n",
       "0       1                         none  we dont have comfort    \n",
       "1       2  chocolate, chips, ice cream   Stress, bored, anger   \n",
       "\n",
       "   comfort_food_reasons_coded  ...  soup  sports  thai_food tortilla_calories  \\\n",
       "0                         9.0  ...   1.0     1.0          1            1165.0   \n",
       "1                         1.0  ...   1.0     1.0          2             725.0   \n",
       "\n",
       "   turkey_calories  type_sports veggies_day  vitamins  waffle_calories  weight  \n",
       "0              345   car racing           5         1             1315     187  \n",
       "1              690  Basketball            4         2              900     155  \n",
       "\n",
       "[2 rows x 61 columns]"
      ]
     },
     "execution_count": 176,
     "metadata": {},
     "output_type": "execute_result"
    }
   ],
   "source": [
    "df.head(2)"
   ]
  },
  {
   "cell_type": "code",
   "execution_count": 163,
   "id": "ce44a527",
   "metadata": {},
   "outputs": [
    {
     "name": "stdout",
     "output_type": "stream",
     "text": [
      "[ 3.  2.  1. nan]\n",
      "['2.4' '3.654' '3.3' '3.2' '3.5' '2.25' '3.8' '3.904' '3.4' '3.6' '3.1'\n",
      " nan '4' '2.2' '3.87' '3.7' '3.9' '2.8' '3' '3.65' '3.89' '2.9' '3.605'\n",
      " '3.83' '3.292' '3.35' 'Personal ' '2.6' '3.67' '3.73' '3.79 bitch' '2.71'\n",
      " '3.68' '3.75' '3.92' 'Unknown' '3.77' '3.63' '3.882']\n"
     ]
    }
   ],
   "source": [
    "# Checking unique values\n",
    "print(df['employment'].unique())\n",
    "print(df.GPA.unique())"
   ]
  },
  {
   "cell_type": "code",
   "execution_count": 165,
   "id": "2617e7c1",
   "metadata": {},
   "outputs": [
    {
     "name": "stdout",
     "output_type": "stream",
     "text": [
      "[2.4   3.654 3.3   3.2   3.5   2.25  3.8   3.904 3.4   3.6   3.1     nan\n",
      " 4.    2.2   3.87  3.7   3.9   2.8   3.    3.65  3.89  2.9   3.605 3.83\n",
      " 3.292 3.35  2.6   3.67  3.73  2.71  3.68  3.75  3.92  3.77  3.63  3.882]\n"
     ]
    }
   ],
   "source": [
    "df['GPA']=pd.to_numeric(df['GPA'], errors='coerce')\n",
    "print(df.GPA.unique())"
   ]
  },
  {
   "cell_type": "code",
   "execution_count": 166,
   "id": "f21d89e7",
   "metadata": {},
   "outputs": [],
   "source": [
    "df1=df[['GPA','employment']]"
   ]
  },
  {
   "cell_type": "code",
   "execution_count": 167,
   "id": "0025e0bf",
   "metadata": {},
   "outputs": [
    {
     "data": {
      "text/html": [
       "<div>\n",
       "<style scoped>\n",
       "    .dataframe tbody tr th:only-of-type {\n",
       "        vertical-align: middle;\n",
       "    }\n",
       "\n",
       "    .dataframe tbody tr th {\n",
       "        vertical-align: top;\n",
       "    }\n",
       "\n",
       "    .dataframe thead th {\n",
       "        text-align: right;\n",
       "    }\n",
       "</style>\n",
       "<table border=\"1\" class=\"dataframe\">\n",
       "  <thead>\n",
       "    <tr style=\"text-align: right;\">\n",
       "      <th></th>\n",
       "      <th>GPA</th>\n",
       "      <th>employment</th>\n",
       "    </tr>\n",
       "  </thead>\n",
       "  <tbody>\n",
       "    <tr>\n",
       "      <th>count</th>\n",
       "      <td>120.000000</td>\n",
       "      <td>116.000000</td>\n",
       "    </tr>\n",
       "    <tr>\n",
       "      <th>mean</th>\n",
       "      <td>3.415558</td>\n",
       "      <td>2.448276</td>\n",
       "    </tr>\n",
       "    <tr>\n",
       "      <th>std</th>\n",
       "      <td>0.390139</td>\n",
       "      <td>0.533158</td>\n",
       "    </tr>\n",
       "    <tr>\n",
       "      <th>min</th>\n",
       "      <td>2.200000</td>\n",
       "      <td>1.000000</td>\n",
       "    </tr>\n",
       "    <tr>\n",
       "      <th>25%</th>\n",
       "      <td>3.200000</td>\n",
       "      <td>2.000000</td>\n",
       "    </tr>\n",
       "    <tr>\n",
       "      <th>50%</th>\n",
       "      <td>3.500000</td>\n",
       "      <td>2.000000</td>\n",
       "    </tr>\n",
       "    <tr>\n",
       "      <th>75%</th>\n",
       "      <td>3.700000</td>\n",
       "      <td>3.000000</td>\n",
       "    </tr>\n",
       "    <tr>\n",
       "      <th>max</th>\n",
       "      <td>4.000000</td>\n",
       "      <td>3.000000</td>\n",
       "    </tr>\n",
       "  </tbody>\n",
       "</table>\n",
       "</div>"
      ],
      "text/plain": [
       "              GPA  employment\n",
       "count  120.000000  116.000000\n",
       "mean     3.415558    2.448276\n",
       "std      0.390139    0.533158\n",
       "min      2.200000    1.000000\n",
       "25%      3.200000    2.000000\n",
       "50%      3.500000    2.000000\n",
       "75%      3.700000    3.000000\n",
       "max      4.000000    3.000000"
      ]
     },
     "execution_count": 167,
     "metadata": {},
     "output_type": "execute_result"
    }
   ],
   "source": [
    "# Understanding the statistics in GPA, employment\n",
    "df1.describe()"
   ]
  },
  {
   "cell_type": "code",
   "execution_count": 168,
   "id": "afb826fe",
   "metadata": {},
   "outputs": [
    {
     "data": {
      "text/html": [
       "<div>\n",
       "<style scoped>\n",
       "    .dataframe tbody tr th:only-of-type {\n",
       "        vertical-align: middle;\n",
       "    }\n",
       "\n",
       "    .dataframe tbody tr th {\n",
       "        vertical-align: top;\n",
       "    }\n",
       "\n",
       "    .dataframe thead th {\n",
       "        text-align: right;\n",
       "    }\n",
       "</style>\n",
       "<table border=\"1\" class=\"dataframe\">\n",
       "  <thead>\n",
       "    <tr style=\"text-align: right;\">\n",
       "      <th></th>\n",
       "      <th>GPA</th>\n",
       "      <th>employment</th>\n",
       "    </tr>\n",
       "  </thead>\n",
       "  <tbody>\n",
       "    <tr>\n",
       "      <th>0</th>\n",
       "      <td>2.400</td>\n",
       "      <td>3.0</td>\n",
       "    </tr>\n",
       "    <tr>\n",
       "      <th>1</th>\n",
       "      <td>3.654</td>\n",
       "      <td>2.0</td>\n",
       "    </tr>\n",
       "    <tr>\n",
       "      <th>2</th>\n",
       "      <td>3.300</td>\n",
       "      <td>3.0</td>\n",
       "    </tr>\n",
       "    <tr>\n",
       "      <th>3</th>\n",
       "      <td>3.200</td>\n",
       "      <td>3.0</td>\n",
       "    </tr>\n",
       "    <tr>\n",
       "      <th>4</th>\n",
       "      <td>3.500</td>\n",
       "      <td>2.0</td>\n",
       "    </tr>\n",
       "  </tbody>\n",
       "</table>\n",
       "</div>"
      ],
      "text/plain": [
       "     GPA  employment\n",
       "0  2.400         3.0\n",
       "1  3.654         2.0\n",
       "2  3.300         3.0\n",
       "3  3.200         3.0\n",
       "4  3.500         2.0"
      ]
     },
     "execution_count": 168,
     "metadata": {},
     "output_type": "execute_result"
    }
   ],
   "source": [
    "df1.head()"
   ]
  },
  {
   "cell_type": "code",
   "execution_count": 169,
   "id": "e84d3ff2",
   "metadata": {},
   "outputs": [
    {
     "data": {
      "text/plain": [
       "True"
      ]
     },
     "execution_count": 169,
     "metadata": {},
     "output_type": "execute_result"
    }
   ],
   "source": [
    "# checking null values\n",
    "df1.isnull().values.any()"
   ]
  },
  {
   "cell_type": "code",
   "execution_count": 170,
   "id": "bf3dbf5a",
   "metadata": {},
   "outputs": [
    {
     "data": {
      "text/plain": [
       "GPA           5\n",
       "employment    9\n",
       "dtype: int64"
      ]
     },
     "execution_count": 170,
     "metadata": {},
     "output_type": "execute_result"
    }
   ],
   "source": [
    "df1.isnull().sum()"
   ]
  },
  {
   "cell_type": "code",
   "execution_count": 171,
   "id": "6ebe40ca",
   "metadata": {},
   "outputs": [],
   "source": [
    "df3=df1.dropna()"
   ]
  },
  {
   "cell_type": "code",
   "execution_count": 172,
   "id": "0fc56656",
   "metadata": {},
   "outputs": [
    {
     "data": {
      "text/plain": [
       "GPA           0\n",
       "employment    0\n",
       "dtype: int64"
      ]
     },
     "execution_count": 172,
     "metadata": {},
     "output_type": "execute_result"
    }
   ],
   "source": [
    "df3.isnull().sum()"
   ]
  },
  {
   "cell_type": "code",
   "execution_count": 174,
   "id": "c203d6f9",
   "metadata": {},
   "outputs": [
    {
     "data": {
      "text/html": [
       "<div>\n",
       "<style scoped>\n",
       "    .dataframe tbody tr th:only-of-type {\n",
       "        vertical-align: middle;\n",
       "    }\n",
       "\n",
       "    .dataframe tbody tr th {\n",
       "        vertical-align: top;\n",
       "    }\n",
       "\n",
       "    .dataframe thead th {\n",
       "        text-align: right;\n",
       "    }\n",
       "</style>\n",
       "<table border=\"1\" class=\"dataframe\">\n",
       "  <thead>\n",
       "    <tr style=\"text-align: right;\">\n",
       "      <th></th>\n",
       "      <th>GPA</th>\n",
       "    </tr>\n",
       "    <tr>\n",
       "      <th>employment</th>\n",
       "      <th></th>\n",
       "    </tr>\n",
       "  </thead>\n",
       "  <tbody>\n",
       "    <tr>\n",
       "      <th>1.0</th>\n",
       "      <td>3.500000</td>\n",
       "    </tr>\n",
       "    <tr>\n",
       "      <th>2.0</th>\n",
       "      <td>3.479017</td>\n",
       "    </tr>\n",
       "    <tr>\n",
       "      <th>3.0</th>\n",
       "      <td>3.351216</td>\n",
       "    </tr>\n",
       "  </tbody>\n",
       "</table>\n",
       "</div>"
      ],
      "text/plain": [
       "                 GPA\n",
       "employment          \n",
       "1.0         3.500000\n",
       "2.0         3.479017\n",
       "3.0         3.351216"
      ]
     },
     "execution_count": 174,
     "metadata": {},
     "output_type": "execute_result"
    }
   ],
   "source": [
    "# Checking mean by grouping employment\n",
    "df3.groupby(['employment']).mean()"
   ]
  },
  {
   "cell_type": "code",
   "execution_count": 175,
   "id": "e836f163",
   "metadata": {},
   "outputs": [
    {
     "data": {
      "text/plain": [
       "<AxesSubplot:xlabel='GPA', ylabel='employment'>"
      ]
     },
     "execution_count": 175,
     "metadata": {},
     "output_type": "execute_result"
    },
    {
     "data": {
      "image/png": "[encoded data removed]",
      "text/plain": [
       "<Figure size 432x288 with 1 Axes>"
      ]
     },
     "metadata": {
      "needs_background": "light"
     },
     "output_type": "display_data"
    }
   ],
   "source": [
    "df3.plot(kind='scatter',x='GPA',y='employment')"
   ]
  },
  {
   "cell_type": "code",
   "execution_count": 161,
   "id": "424e25ae",
   "metadata": {},
   "outputs": [
    {
     "name": "stdout",
     "output_type": "stream",
     "text": [
      "excellent    24\n",
      "very_high    23\n",
      "high         22\n",
      "low          21\n",
      "avg          21\n",
      "Name: gpa_range, dtype: int64\n"
     ]
    },
    {
     "data": {
      "text/html": [
       "<div>\n",
       "<style scoped>\n",
       "    .dataframe tbody tr th:only-of-type {\n",
       "        vertical-align: middle;\n",
       "    }\n",
       "\n",
       "    .dataframe tbody tr th {\n",
       "        vertical-align: top;\n",
       "    }\n",
       "\n",
       "    .dataframe thead th {\n",
       "        text-align: right;\n",
       "    }\n",
       "</style>\n",
       "<table border=\"1\" class=\"dataframe\">\n",
       "  <thead>\n",
       "    <tr style=\"text-align: right;\">\n",
       "      <th>employment</th>\n",
       "      <th>1</th>\n",
       "      <th>2</th>\n",
       "      <th>3</th>\n",
       "    </tr>\n",
       "    <tr>\n",
       "      <th>gpa_range</th>\n",
       "      <th></th>\n",
       "      <th></th>\n",
       "      <th></th>\n",
       "    </tr>\n",
       "  </thead>\n",
       "  <tbody>\n",
       "    <tr>\n",
       "      <th>low</th>\n",
       "      <td>0.000000</td>\n",
       "      <td>0.333333</td>\n",
       "      <td>0.666667</td>\n",
       "    </tr>\n",
       "    <tr>\n",
       "      <th>avg</th>\n",
       "      <td>0.000000</td>\n",
       "      <td>0.619048</td>\n",
       "      <td>0.380952</td>\n",
       "    </tr>\n",
       "    <tr>\n",
       "      <th>high</th>\n",
       "      <td>0.090909</td>\n",
       "      <td>0.500000</td>\n",
       "      <td>0.409091</td>\n",
       "    </tr>\n",
       "    <tr>\n",
       "      <th>very_high</th>\n",
       "      <td>0.000000</td>\n",
       "      <td>0.608696</td>\n",
       "      <td>0.391304</td>\n",
       "    </tr>\n",
       "    <tr>\n",
       "      <th>excellent</th>\n",
       "      <td>0.000000</td>\n",
       "      <td>0.541667</td>\n",
       "      <td>0.458333</td>\n",
       "    </tr>\n",
       "  </tbody>\n",
       "</table>\n",
       "</div>"
      ],
      "text/plain": [
       "employment         1         2         3\n",
       "gpa_range                               \n",
       "low         0.000000  0.333333  0.666667\n",
       "avg         0.000000  0.619048  0.380952\n",
       "high        0.090909  0.500000  0.409091\n",
       "very_high   0.000000  0.608696  0.391304\n",
       "excellent   0.000000  0.541667  0.458333"
      ]
     },
     "execution_count": 161,
     "metadata": {},
     "output_type": "execute_result"
    }
   ],
   "source": [
    "# Making bins in gpa_range and understanding the employment effect\n",
    "df4=df3.copy()\n",
    "df4['gpa_range']=pd.cut(df4.GPA ,bins=[0, 3 ,3.3, 3.5, 3.75, 4] ,labels= ['low','avg','high','very_high','excellent'] )\n",
    "print(df4['gpa_range'].value_counts())\n",
    "t1=pd.crosstab(df4.gpa_range , df4.employment ).apply(lambda r: r/r.sum(), axis=1)\n",
    "t1"
   ]
  },
  {
   "cell_type": "markdown",
   "id": "435b4c08",
   "metadata": {},
   "source": [
    "we bin the gpa in 5 bins with equal number of intstances (~20) , low(0-3), avg(3-3.3), high (3.3-3.5), very-high(3.5-3.75) ,and excellent (3.75-4) , we find the percentage of employment type 1,2 and 3 for each bracket, and see that 66% of indiviuals falling in 'low' gpa bracket are unemployed (employment type 3) compared to all other brackets where the range of unemployed is ~40-45%. Nothing else can be conclusively said about the employment for the other brackets of GPA due to either absence of enough data points or lack of clear pattern."
   ]
  },
  {
   "cell_type": "markdown",
   "id": "4d8e7c41",
   "metadata": {},
   "source": [
    "# 1.2 ********************************Analysis of Weight feature********************************"
   ]
  },
  {
   "cell_type": "code",
   "execution_count": 215,
   "id": "938c2970",
   "metadata": {},
   "outputs": [
    {
     "data": {
      "text/html": [
       "<div>\n",
       "<style scoped>\n",
       "    .dataframe tbody tr th:only-of-type {\n",
       "        vertical-align: middle;\n",
       "    }\n",
       "\n",
       "    .dataframe tbody tr th {\n",
       "        vertical-align: top;\n",
       "    }\n",
       "\n",
       "    .dataframe thead th {\n",
       "        text-align: right;\n",
       "    }\n",
       "</style>\n",
       "<table border=\"1\" class=\"dataframe\">\n",
       "  <thead>\n",
       "    <tr style=\"text-align: right;\">\n",
       "      <th></th>\n",
       "      <th>GPA</th>\n",
       "      <th>Gender</th>\n",
       "      <th>breakfast</th>\n",
       "      <th>calories_chicken</th>\n",
       "      <th>calories_day</th>\n",
       "      <th>calories_scone</th>\n",
       "      <th>coffee</th>\n",
       "      <th>comfort_food</th>\n",
       "      <th>comfort_food_reasons</th>\n",
       "      <th>comfort_food_reasons_coded</th>\n",
       "      <th>...</th>\n",
       "      <th>soup</th>\n",
       "      <th>sports</th>\n",
       "      <th>thai_food</th>\n",
       "      <th>tortilla_calories</th>\n",
       "      <th>turkey_calories</th>\n",
       "      <th>type_sports</th>\n",
       "      <th>veggies_day</th>\n",
       "      <th>vitamins</th>\n",
       "      <th>waffle_calories</th>\n",
       "      <th>weight</th>\n",
       "    </tr>\n",
       "  </thead>\n",
       "  <tbody>\n",
       "    <tr>\n",
       "      <th>0</th>\n",
       "      <td>2.400</td>\n",
       "      <td>2</td>\n",
       "      <td>1</td>\n",
       "      <td>430</td>\n",
       "      <td>NaN</td>\n",
       "      <td>315.0</td>\n",
       "      <td>1</td>\n",
       "      <td>none</td>\n",
       "      <td>we dont have comfort</td>\n",
       "      <td>9.0</td>\n",
       "      <td>...</td>\n",
       "      <td>1.0</td>\n",
       "      <td>1.0</td>\n",
       "      <td>1</td>\n",
       "      <td>1165.0</td>\n",
       "      <td>345</td>\n",
       "      <td>car racing</td>\n",
       "      <td>5</td>\n",
       "      <td>1</td>\n",
       "      <td>1315</td>\n",
       "      <td>187</td>\n",
       "    </tr>\n",
       "    <tr>\n",
       "      <th>1</th>\n",
       "      <td>3.654</td>\n",
       "      <td>1</td>\n",
       "      <td>1</td>\n",
       "      <td>610</td>\n",
       "      <td>3.0</td>\n",
       "      <td>420.0</td>\n",
       "      <td>2</td>\n",
       "      <td>chocolate, chips, ice cream</td>\n",
       "      <td>Stress, bored, anger</td>\n",
       "      <td>1.0</td>\n",
       "      <td>...</td>\n",
       "      <td>1.0</td>\n",
       "      <td>1.0</td>\n",
       "      <td>2</td>\n",
       "      <td>725.0</td>\n",
       "      <td>690</td>\n",
       "      <td>Basketball</td>\n",
       "      <td>4</td>\n",
       "      <td>2</td>\n",
       "      <td>900</td>\n",
       "      <td>155</td>\n",
       "    </tr>\n",
       "  </tbody>\n",
       "</table>\n",
       "<p>2 rows × 61 columns</p>\n",
       "</div>"
      ],
      "text/plain": [
       "     GPA  Gender  breakfast  calories_chicken  calories_day  calories_scone  \\\n",
       "0  2.400       2          1               430           NaN           315.0   \n",
       "1  3.654       1          1               610           3.0           420.0   \n",
       "\n",
       "   coffee                 comfort_food   comfort_food_reasons  \\\n",
       "0       1                         none  we dont have comfort    \n",
       "1       2  chocolate, chips, ice cream   Stress, bored, anger   \n",
       "\n",
       "   comfort_food_reasons_coded  ...  soup  sports  thai_food tortilla_calories  \\\n",
       "0                         9.0  ...   1.0     1.0          1            1165.0   \n",
       "1                         1.0  ...   1.0     1.0          2             725.0   \n",
       "\n",
       "   turkey_calories  type_sports veggies_day  vitamins  waffle_calories  weight  \n",
       "0              345   car racing           5         1             1315     187  \n",
       "1              690  Basketball            4         2              900     155  \n",
       "\n",
       "[2 rows x 61 columns]"
      ]
     },
     "execution_count": 215,
     "metadata": {},
     "output_type": "execute_result"
    }
   ],
   "source": [
    "df.head(2)"
   ]
  },
  {
   "cell_type": "code",
   "execution_count": 218,
   "id": "5323ad14",
   "metadata": {},
   "outputs": [
    {
     "data": {
      "text/plain": [
       "array(['187', '155', \"I'm not answering this. \", 'Not sure, 240', '190',\n",
       "       '180', '137', '125', '116', '110', '264', '123', '185', '145',\n",
       "       '170', '135', '165', '175', '195', '105', '160', '167', '115',\n",
       "       '205', nan, '128', '150', '140', '120', '100', '113', '168', '169',\n",
       "       '200', '265', '192', '118', '210', '112', '144 lbs', '130', '127',\n",
       "       '129', '260', '184', '230', '138', '156'], dtype=object)"
      ]
     },
     "execution_count": 218,
     "metadata": {},
     "output_type": "execute_result"
    }
   ],
   "source": [
    "# Checking unique values\n",
    "df['weight'].unique()"
   ]
  },
  {
   "cell_type": "code",
   "execution_count": 225,
   "id": "079f818c",
   "metadata": {},
   "outputs": [],
   "source": [
    "df2 = pd.DataFrame(df[['weight']])"
   ]
  },
  {
   "cell_type": "code",
   "execution_count": null,
   "id": "3f1e8ea3",
   "metadata": {},
   "outputs": [],
   "source": [
    "# As we can see that the weight column contains values with some string too like \"I'm not answering this. \"\n",
    "# so this is wrong about the weight field as during analysis it will throw an error as it contains strings \n",
    "# In order to resolve it we will do as follows:"
   ]
  },
  {
   "cell_type": "code",
   "execution_count": 226,
   "id": "7a399af0",
   "metadata": {},
   "outputs": [
    {
     "name": "stdout",
     "output_type": "stream",
     "text": [
      "125\n"
     ]
    }
   ],
   "source": [
    "print(df2.shape[0])"
   ]
  },
  {
   "cell_type": "code",
   "execution_count": 233,
   "id": "d5e3ccfb",
   "metadata": {},
   "outputs": [],
   "source": [
    "df3=df2.copy()\n",
    "df3=pd.DataFrame(pd.to_numeric(df2.weight , errors='coerce'))"
   ]
  },
  {
   "cell_type": "code",
   "execution_count": 238,
   "id": "ee59c383",
   "metadata": {},
   "outputs": [
    {
     "name": "stdout",
     "output_type": "stream",
     "text": [
      "Na before removing string weight    2\n",
      "dtype: int64 \n",
      " NA after removing strings weight    5\n",
      "dtype: int64\n"
     ]
    }
   ],
   "source": [
    "# Understanding NAN\n",
    "print('Na before removing string' ,df2.isna().sum(), '\\n NA after removing strings' ,df3.isna().sum())"
   ]
  },
  {
   "cell_type": "code",
   "execution_count": 240,
   "id": "d81bf037",
   "metadata": {},
   "outputs": [
    {
     "name": "stdout",
     "output_type": "stream",
     "text": [
      "['187' '155' \"I'm not answering this. \" 'Not sure, 240' '190' '180' '137'\n",
      " '125' '116' '110' '264' '123' '185' '145' '170' '135' '165' '175' '195'\n",
      " '105' '160' '167' '115' '205' nan '128' '150' '140' '120' '100' '113'\n",
      " '168' '169' '200' '265' '192' '118' '210' '112' '144 lbs' '130' '127'\n",
      " '129' '260' '184' '230' '138' '156']\n",
      "[187. 155.  nan 190. 180. 137. 125. 116. 110. 264. 123. 185. 145. 170.\n",
      " 135. 165. 175. 195. 105. 160. 167. 115. 205. 128. 150. 140. 120. 100.\n",
      " 113. 168. 169. 200. 265. 192. 118. 210. 112. 130. 127. 129. 260. 184.\n",
      " 230. 138. 156.]\n"
     ]
    }
   ],
   "source": [
    "print(df2.weight.unique())\n",
    "print(df3.weight.unique())"
   ]
  },
  {
   "cell_type": "code",
   "execution_count": 248,
   "id": "33f812a2",
   "metadata": {},
   "outputs": [
    {
     "data": {
      "text/plain": [
       "<AxesSubplot:ylabel='Density'>"
      ]
     },
     "execution_count": 248,
     "metadata": {},
     "output_type": "execute_result"
    },
    {
     "data": {
      "image/png": "[encoded data removed]",
      "text/plain": [
       "<Figure size 432x288 with 1 Axes>"
      ]
     },
     "metadata": {
      "needs_background": "light"
     },
     "output_type": "display_data"
    }
   ],
   "source": [
    "# Evaluating Weight feature using statistical plots\n",
    "df3.weight.plot(kind='kde')"
   ]
  },
  {
   "cell_type": "code",
   "execution_count": 247,
   "id": "d3dfeb1e",
   "metadata": {},
   "outputs": [
    {
     "data": {
      "text/plain": [
       "<AxesSubplot:ylabel='Frequency'>"
      ]
     },
     "execution_count": 247,
     "metadata": {},
     "output_type": "execute_result"
    },
    {
     "data": {
      "image/png": "[encoded data removed]",
      "text/plain": [
       "<Figure size 432x288 with 1 Axes>"
      ]
     },
     "metadata": {
      "needs_background": "light"
     },
     "output_type": "display_data"
    }
   ],
   "source": [
    "\n",
    "df3.weight.plot(kind='hist')"
   ]
  },
  {
   "cell_type": "code",
   "execution_count": 244,
   "id": "ff9b2bee",
   "metadata": {},
   "outputs": [
    {
     "data": {
      "text/plain": [
       "count    120.000000\n",
       "mean     158.500000\n",
       "std       31.758278\n",
       "min      100.000000\n",
       "25%      135.000000\n",
       "50%      155.000000\n",
       "75%      180.000000\n",
       "max      265.000000\n",
       "Name: weight, dtype: float64"
      ]
     },
     "execution_count": 244,
     "metadata": {},
     "output_type": "execute_result"
    }
   ],
   "source": [
    "df3.weight.describe()"
   ]
  },
  {
   "cell_type": "markdown",
   "id": "46adeb24",
   "metadata": {},
   "source": [
    "Weight on its own is not a holistic indicator of body type of indivudual , it makes more sense when it is taken in accordance with height or gender of individiual. Someone who is staistically an outlier in terms of weight like lets say 80lbs can be perfectly fine for his height. So weight feaure used alone for analysis can be misleading.\n",
    "From a data standpoint the weight feild contains values which are very aligned with the normal distribtuion of weight of any population. So the data does not contain anomalies. The range of weight is from 100-265 pounds and mean is around 155lbs. \n",
    "There were a couple of string values, but there numbers were not significant to throw off the analysis.\n"
   ]
  },
  {
   "cell_type": "markdown",
   "id": "115f6660",
   "metadata": {},
   "source": [
    "# 1.3 ********************************Analyzing comfort_food_reasons feature ********************************"
   ]
  },
  {
   "cell_type": "code",
   "execution_count": 251,
   "id": "f32cfadf",
   "metadata": {},
   "outputs": [
    {
     "data": {
      "text/plain": [
       "0                              we dont have comfort \n",
       "1                               Stress, bored, anger\n",
       "2                                    stress, sadness\n",
       "3                                            Boredom\n",
       "4                         Stress, boredom, cravings \n",
       "                           ...                      \n",
       "120                             boredom and sadness \n",
       "121                  Loneliness / Homesick / Sadness\n",
       "122                                          sadness\n",
       "123    happiness, they are some of my favorite foods\n",
       "124                 hormones, Premenstrual syndrome.\n",
       "Name: comfort_food_reasons, Length: 125, dtype: object"
      ]
     },
     "execution_count": 251,
     "metadata": {},
     "output_type": "execute_result"
    }
   ],
   "source": [
    "df['comfort_food_reasons']"
   ]
  },
  {
   "cell_type": "code",
   "execution_count": 252,
   "id": "cd06ebac",
   "metadata": {},
   "outputs": [],
   "source": [
    "df6=df['comfort_food_reasons']"
   ]
  },
  {
   "cell_type": "code",
   "execution_count": 253,
   "id": "0898a633",
   "metadata": {},
   "outputs": [
    {
     "data": {
      "text/plain": [
       "0         we dont have comfort \n",
       "1          Stress, bored, anger\n",
       "2               stress, sadness\n",
       "3                       Boredom\n",
       "4    Stress, boredom, cravings \n",
       "Name: comfort_food_reasons, dtype: object"
      ]
     },
     "execution_count": 253,
     "metadata": {},
     "output_type": "execute_result"
    }
   ],
   "source": [
    "df6.head()"
   ]
  },
  {
   "cell_type": "code",
   "execution_count": 265,
   "id": "77d9e9d4",
   "metadata": {},
   "outputs": [],
   "source": [
    "# taking a subset in comfort_food_reasons feature\n",
    "df6=df6.head(50)"
   ]
  },
  {
   "cell_type": "code",
   "execution_count": 268,
   "id": "82ca9a72",
   "metadata": {},
   "outputs": [
    {
     "data": {
      "text/plain": [
       "(50, 1)"
      ]
     },
     "execution_count": 268,
     "metadata": {},
     "output_type": "execute_result"
    }
   ],
   "source": [
    "df6.shape"
   ]
  },
  {
   "cell_type": "code",
   "execution_count": 272,
   "id": "0bbf8502",
   "metadata": {},
   "outputs": [
    {
     "data": {
      "text/plain": [
       "comfort_food_reasons    0\n",
       "dtype: int64"
      ]
     },
     "execution_count": 272,
     "metadata": {},
     "output_type": "execute_result"
    }
   ],
   "source": [
    "# Checking null values\n",
    "df6.isnull().sum()"
   ]
  },
  {
   "cell_type": "code",
   "execution_count": 281,
   "id": "92c69004",
   "metadata": {},
   "outputs": [
    {
     "data": {
      "text/plain": [
       "0         we dont have comfort\n",
       "1         Stress, bored, anger\n",
       "2              stress, sadness\n",
       "3                      Boredom\n",
       "4    Stress, boredom, cravings\n",
       "Name: comfort_food_reasons, dtype: object"
      ]
     },
     "execution_count": 281,
     "metadata": {},
     "output_type": "execute_result"
    }
   ],
   "source": [
    "df6.head()"
   ]
  },
  {
   "cell_type": "code",
   "execution_count": 282,
   "id": "1658e0f5",
   "metadata": {},
   "outputs": [],
   "source": [
    "# Converting to dataframe\n",
    "df6=pd.DataFrame(df6)"
   ]
  },
  {
   "cell_type": "code",
   "execution_count": 283,
   "id": "ca0c7cbf",
   "metadata": {},
   "outputs": [
    {
     "data": {
      "text/html": [
       "<div>\n",
       "<style scoped>\n",
       "    .dataframe tbody tr th:only-of-type {\n",
       "        vertical-align: middle;\n",
       "    }\n",
       "\n",
       "    .dataframe tbody tr th {\n",
       "        vertical-align: top;\n",
       "    }\n",
       "\n",
       "    .dataframe thead th {\n",
       "        text-align: right;\n",
       "    }\n",
       "</style>\n",
       "<table border=\"1\" class=\"dataframe\">\n",
       "  <thead>\n",
       "    <tr style=\"text-align: right;\">\n",
       "      <th></th>\n",
       "      <th>comfort_food_reasons</th>\n",
       "    </tr>\n",
       "  </thead>\n",
       "  <tbody>\n",
       "    <tr>\n",
       "      <th>0</th>\n",
       "      <td>we dont have comfort</td>\n",
       "    </tr>\n",
       "    <tr>\n",
       "      <th>1</th>\n",
       "      <td>Stress, bored, anger</td>\n",
       "    </tr>\n",
       "    <tr>\n",
       "      <th>2</th>\n",
       "      <td>stress, sadness</td>\n",
       "    </tr>\n",
       "    <tr>\n",
       "      <th>3</th>\n",
       "      <td>Boredom</td>\n",
       "    </tr>\n",
       "    <tr>\n",
       "      <th>4</th>\n",
       "      <td>Stress, boredom, cravings</td>\n",
       "    </tr>\n",
       "  </tbody>\n",
       "</table>\n",
       "</div>"
      ],
      "text/plain": [
       "        comfort_food_reasons\n",
       "0       we dont have comfort\n",
       "1       Stress, bored, anger\n",
       "2            stress, sadness\n",
       "3                    Boredom\n",
       "4  Stress, boredom, cravings"
      ]
     },
     "execution_count": 283,
     "metadata": {},
     "output_type": "execute_result"
    }
   ],
   "source": [
    "df6.head()"
   ]
  },
  {
   "cell_type": "code",
   "execution_count": 285,
   "id": "8070abe9",
   "metadata": {},
   "outputs": [],
   "source": [
    "cfr=[]\n",
    "# checking unique values\n",
    "cfr=df6['comfort_food_reasons'].unique()"
   ]
  },
  {
   "cell_type": "code",
   "execution_count": 289,
   "id": "d44185bc",
   "metadata": {},
   "outputs": [],
   "source": [
    "cfr=list(df6['comfort_food_reasons'].unique())"
   ]
  },
  {
   "cell_type": "code",
   "execution_count": 299,
   "id": "fb134586",
   "metadata": {},
   "outputs": [],
   "source": [
    "for i in range(len(cfr)):\n",
    "    cfr[i]=cfr[i].lower()\n",
    "    cfr[i].split()"
   ]
  },
  {
   "cell_type": "code",
   "execution_count": 312,
   "id": "76dde8fd",
   "metadata": {},
   "outputs": [],
   "source": [
    "newlist = [word for line in cfr for word in line.split()]"
   ]
  },
  {
   "cell_type": "code",
   "execution_count": 303,
   "id": "3ce716e9",
   "metadata": {},
   "outputs": [],
   "source": [
    "uniqueWords = [] \n",
    "for i in newlist:\n",
    "      if not i in uniqueWords:\n",
    "          uniqueWords.append(i);"
   ]
  },
  {
   "cell_type": "code",
   "execution_count": 306,
   "id": "d2065479",
   "metadata": {},
   "outputs": [
    {
     "data": {
      "text/plain": [
       "113"
      ]
     },
     "execution_count": 306,
     "metadata": {},
     "output_type": "execute_result"
    }
   ],
   "source": [
    "len(uniqueWords)"
   ]
  },
  {
   "cell_type": "code",
   "execution_count": 307,
   "id": "c3eeefb3",
   "metadata": {},
   "outputs": [
    {
     "data": {
      "text/plain": [
       "204"
      ]
     },
     "execution_count": 307,
     "metadata": {},
     "output_type": "execute_result"
    }
   ],
   "source": [
    "len(newlist)"
   ]
  },
  {
   "cell_type": "code",
   "execution_count": 317,
   "id": "64113c25",
   "metadata": {},
   "outputs": [],
   "source": [
    "for i in range(len(newlist)):\n",
    "    newlist[i]=newlist[i].replace(',','')"
   ]
  },
  {
   "cell_type": "code",
   "execution_count": 333,
   "id": "8ec07115",
   "metadata": {},
   "outputs": [],
   "source": [
    "# Understanding most occured words\n",
    "from collections import Counter\n",
    "Counter=Counter(newlist)\n",
    "most_occur = Counter.most_common(30)\n"
   ]
  },
  {
   "cell_type": "markdown",
   "id": "b0355e20",
   "metadata": {},
   "source": [
    "bored\n",
    "sad\n",
    "stress\n",
    "comfort\n",
    "anger\n",
    "cold/weather\n",
    "happiness\n",
    "hunger\n",
    "craving"
   ]
  },
  {
   "cell_type": "code",
   "execution_count": null,
   "id": "fecf1b5a",
   "metadata": {},
   "outputs": [],
   "source": [
    "\"\"\"\n",
    "we can look for keywords bored, sad ,stress , happiness as keyowrds and find if similar words are occuring \n",
    "psuedocode--\n",
    "\n",
    "1. keywords = ['sad', 'happy', 'bored', 'stress']\n",
    "2. split the comfort_food_reasons column into token and do text preprocessing like lemmatiztion, stemming, tokenization\n",
    "3. we will get a tokens each row like. ['i','eat','comfort','food','when','i','am','bored']\n",
    "4. we will compare each keywords with each token and get a percenatge of match ,\n",
    "    like bore will match with bored, boredom with a high percentage of characters match , so we will assign \n",
    "    that jeyword to that row , where maximum pattern match is there.\n",
    "5. We will add columns ['sad', 'happy', 'bored', 'stress'] to the original data where column will take value 0 or 1 , \n",
    "    based on if the keyword was present in the comfort food column.\n",
    "\n",
    "Alternatively, instead we can do regex pattern matching to find the keyowrds in the column and if the keyowrd is found\n",
    "then we set the indicator as 1 for that keyword.\n",
    "\n",
    "Alternatively we can use topic model to Algorithmically  detrmine the frequent topics in the column and assign topics\n",
    "to each row, the probability of every topic for a document can be an additional column to the existing columns.\n",
    "\n",
    "\n"
   ]
  },
  {
   "cell_type": "markdown",
   "id": "14c6f078",
   "metadata": {},
   "source": [
    "# Making ingestible indicator columns using regex"
   ]
  },
  {
   "cell_type": "code",
   "execution_count": null,
   "id": "fc10eff6",
   "metadata": {},
   "outputs": [],
   "source": [
    "import re\n",
    "\n",
    "df['text']=df.text.fillna('')\n",
    "df['comfort_happy'],df['comfort_sad'],df['comfort_bored'],df['comfort_stress']=0,0,0,0\n",
    "for idx,row in df.iterrows():\n",
    "    doc=row.text\n",
    "    if(re.findall('happ', doc)!=[]):\n",
    "        df['comfort_happy'].loc[idx]=1\n",
    "    if(re.findall('sad', doc)!=[]):\n",
    "        df['comfort_sad'].loc[idx]=1\n",
    "    if(re.findall('bore', doc)!=[]):\n",
    "        df['comfort_bored'].loc[idx]=1\n",
    "    if(re.findall('stress', doc)!=[]):\n",
    "        df['comfort_stress'].loc[idx]=1"
   ]
  },
  {
   "cell_type": "code",
   "execution_count": 116,
   "id": "f4b394f9",
   "metadata": {},
   "outputs": [
    {
     "data": {
      "text/html": [
       "<div>\n",
       "<style scoped>\n",
       "    .dataframe tbody tr th:only-of-type {\n",
       "        vertical-align: middle;\n",
       "    }\n",
       "\n",
       "    .dataframe tbody tr th {\n",
       "        vertical-align: top;\n",
       "    }\n",
       "\n",
       "    .dataframe thead th {\n",
       "        text-align: right;\n",
       "    }\n",
       "</style>\n",
       "<table border=\"1\" class=\"dataframe\">\n",
       "  <thead>\n",
       "    <tr style=\"text-align: right;\">\n",
       "      <th></th>\n",
       "      <th>comfort_food_reasons</th>\n",
       "      <th>comfort_happy</th>\n",
       "      <th>comfort_sad</th>\n",
       "      <th>comfort_bored</th>\n",
       "      <th>comfort_stress</th>\n",
       "    </tr>\n",
       "  </thead>\n",
       "  <tbody>\n",
       "    <tr>\n",
       "      <th>0</th>\n",
       "      <td>we dont have comfort</td>\n",
       "      <td>0</td>\n",
       "      <td>0</td>\n",
       "      <td>0</td>\n",
       "      <td>0</td>\n",
       "    </tr>\n",
       "    <tr>\n",
       "      <th>1</th>\n",
       "      <td>Stress, bored, anger</td>\n",
       "      <td>0</td>\n",
       "      <td>0</td>\n",
       "      <td>1</td>\n",
       "      <td>1</td>\n",
       "    </tr>\n",
       "    <tr>\n",
       "      <th>2</th>\n",
       "      <td>stress, sadness</td>\n",
       "      <td>0</td>\n",
       "      <td>1</td>\n",
       "      <td>0</td>\n",
       "      <td>1</td>\n",
       "    </tr>\n",
       "    <tr>\n",
       "      <th>3</th>\n",
       "      <td>Boredom</td>\n",
       "      <td>0</td>\n",
       "      <td>0</td>\n",
       "      <td>1</td>\n",
       "      <td>0</td>\n",
       "    </tr>\n",
       "    <tr>\n",
       "      <th>4</th>\n",
       "      <td>Stress, boredom, cravings</td>\n",
       "      <td>0</td>\n",
       "      <td>0</td>\n",
       "      <td>1</td>\n",
       "      <td>1</td>\n",
       "    </tr>\n",
       "    <tr>\n",
       "      <th>...</th>\n",
       "      <td>...</td>\n",
       "      <td>...</td>\n",
       "      <td>...</td>\n",
       "      <td>...</td>\n",
       "      <td>...</td>\n",
       "    </tr>\n",
       "    <tr>\n",
       "      <th>120</th>\n",
       "      <td>boredom and sadness</td>\n",
       "      <td>0</td>\n",
       "      <td>1</td>\n",
       "      <td>1</td>\n",
       "      <td>0</td>\n",
       "    </tr>\n",
       "    <tr>\n",
       "      <th>121</th>\n",
       "      <td>Loneliness / Homesick / Sadness</td>\n",
       "      <td>0</td>\n",
       "      <td>1</td>\n",
       "      <td>0</td>\n",
       "      <td>0</td>\n",
       "    </tr>\n",
       "    <tr>\n",
       "      <th>122</th>\n",
       "      <td>sadness</td>\n",
       "      <td>0</td>\n",
       "      <td>1</td>\n",
       "      <td>0</td>\n",
       "      <td>0</td>\n",
       "    </tr>\n",
       "    <tr>\n",
       "      <th>123</th>\n",
       "      <td>happiness, they are some of my favorite foods</td>\n",
       "      <td>1</td>\n",
       "      <td>0</td>\n",
       "      <td>0</td>\n",
       "      <td>0</td>\n",
       "    </tr>\n",
       "    <tr>\n",
       "      <th>124</th>\n",
       "      <td>hormones, Premenstrual syndrome.</td>\n",
       "      <td>0</td>\n",
       "      <td>0</td>\n",
       "      <td>0</td>\n",
       "      <td>0</td>\n",
       "    </tr>\n",
       "  </tbody>\n",
       "</table>\n",
       "<p>125 rows × 5 columns</p>\n",
       "</div>"
      ],
      "text/plain": [
       "                              comfort_food_reasons  comfort_happy  \\\n",
       "0                            we dont have comfort               0   \n",
       "1                             Stress, bored, anger              0   \n",
       "2                                  stress, sadness              0   \n",
       "3                                          Boredom              0   \n",
       "4                       Stress, boredom, cravings               0   \n",
       "..                                             ...            ...   \n",
       "120                           boredom and sadness               0   \n",
       "121                Loneliness / Homesick / Sadness              0   \n",
       "122                                        sadness              0   \n",
       "123  happiness, they are some of my favorite foods              1   \n",
       "124               hormones, Premenstrual syndrome.              0   \n",
       "\n",
       "     comfort_sad  comfort_bored  comfort_stress  \n",
       "0              0              0               0  \n",
       "1              0              1               1  \n",
       "2              1              0               1  \n",
       "3              0              1               0  \n",
       "4              0              1               1  \n",
       "..           ...            ...             ...  \n",
       "120            1              1               0  \n",
       "121            1              0               0  \n",
       "122            1              0               0  \n",
       "123            0              0               0  \n",
       "124            0              0               0  \n",
       "\n",
       "[125 rows x 5 columns]"
      ]
     },
     "execution_count": 116,
     "metadata": {},
     "output_type": "execute_result"
    }
   ],
   "source": [
    "df[['comfort_food_reasons','comfort_happy','comfort_sad','comfort_bored','comfort_stress']]"
   ]
  },
  {
   "cell_type": "markdown",
   "id": "0440828f",
   "metadata": {},
   "source": [
    "# Making ingestible indicator columns using topic modeling "
   ]
  },
  {
   "cell_type": "code",
   "execution_count": 3,
   "id": "ed7e9b8c",
   "metadata": {},
   "outputs": [],
   "source": [
    "import pandas as pd\n",
    "df=pd.read_csv('food_coded.csv')"
   ]
  },
  {
   "cell_type": "code",
   "execution_count": 4,
   "id": "7cf008cc",
   "metadata": {},
   "outputs": [],
   "source": [
    "from nltk.tokenize import word_tokenize\n",
    "import pandas as pd\n",
    "from nltk.stem import *\n",
    "from nltk.stem.porter import *\n",
    "import re\n",
    "import nltk\n",
    "from nltk.corpus import stopwords\n",
    "# nltk.download('wordnet')\n",
    "# nltk.download('punkt')\n",
    "#nltk.download('stopwords')\n",
    "stemmer = PorterStemmer()\n",
    "stopwords_fr=stopwords.words('english')\n",
    "from nltk.stem.wordnet import WordNetLemmatizer\n",
    "# def get_lemma2(word):\n",
    "#     return WordNetLemmatizer().lemmatize(word)\n",
    "# from nltk.stem.snowball import SnowballStemmer\n",
    "# stemmer = SnowballStemmer(\"english\")\n",
    "#stemmer = SnowballStemmer(\"porter\")\n",
    "\n",
    "def clean_texts(text,  stem=1, lemma=1, stopword_removal=1,  punc_removal=1 ):\n",
    "    if(stem==1 and lemma==1 and stopword_removal==1 and punc_removal==1  ):\n",
    "    # tokenizes the word, stemms it, removes stopwords and punctuations and convert all to lowercase\n",
    "        return [WordNetLemmatizer().lemmatize(stemmer.stem(re.sub(r'[^\\w\\s]','',w)) )\\\n",
    "            for w in word_tokenize(str(text)) if w.lower() not in stopwords_fr]\n",
    "\n",
    "    elif(stem==1 and lemma==1 and stopword_removal==1 and punc_removal==0 ):\n",
    "    # tokenizes the word, stemms it, removes stopwords and punctuations and convert all to lowercase\n",
    "        return [WordNetLemmatizer().lemmatize(stemmer.stem(w)) \\\n",
    "            for w in word_tokenize(str(text)) if w.lower() not in stopwords_fr]\n",
    "\n",
    "\n",
    "    elif(stem==0 and lemma==1 and stopword_removal==1 and punc_removal==1  ):\n",
    "    # tokenizes the word, stemms it, removes stopwords and punctuations and convert all to lowercase\n",
    "        return [WordNetLemmatizer().lemmatize(re.sub(r'[^\\w\\s]','',w)) \\\n",
    "            for w in word_tokenize(str(text)) if w.lower() not in stopwords_fr]\n",
    "    \n",
    "    elif(stem==1 and lemma==0 and stopword_removal==1 and punc_removal==1):\n",
    "    # tokenizes the word, stemms it, removes stopwords and punctuations and convert all to lowercase\n",
    "        return [stemmer.stem(re.sub(r'[^\\w\\s]','',w)) \\\n",
    "            for w in word_tokenize(str(text)) if w.lower() not in stopwords_fr]\n",
    "    \n",
    "    elif(stem==0 and lemma==0 and stopword_removal==1 and punc_removal==1):\n",
    "    # tokenizes the word, stemms it, removes stopwords and punctuations and convert all to lowercase\n",
    "        return [re.sub(r'[^\\w\\s]','',w)\\\n",
    "            for w in word_tokenize(str(text)) if w.lower() not in stopwords_fr]\n",
    "    \n",
    "    \n",
    "    elif(stem==0 and lemma==0 and stopword_removal==1 and punc_removal==0  ):\n",
    "    # tokenizes the word, stemms it, removes stopwords and punctuations and convert all to lowercase\n",
    "        return [w for w in word_tokenize(str(text)) ]\n"
   ]
  },
  {
   "cell_type": "code",
   "execution_count": 5,
   "id": "904a388a",
   "metadata": {},
   "outputs": [],
   "source": [
    "from sklearn.decomposition import LatentDirichletAllocation, TruncatedSVD\n",
    "from sklearn.feature_extraction.text import CountVectorizer, TfidfVectorizer\n",
    "from sklearn.model_selection import GridSearchCV\n",
    "from pprint import pprint\n",
    "import pandas as pd\n",
    "import numpy as np"
   ]
  },
  {
   "cell_type": "code",
   "execution_count": 6,
   "id": "220eecf5",
   "metadata": {},
   "outputs": [],
   "source": [
    "df['text']=df['comfort_food_reasons']\n",
    "df['text']=df.text.str.lower() # optional step to convert text to lower case\n",
    "\n",
    "## stemming , lemmatization, punctuation removal , stopword removal , tokemization, lowercase\n",
    "df['clean_text'] = df.apply(lambda x: ' '.join(clean_texts(x['text'] )),axis=1)\n",
    "\n",
    "text =  [' '.join(df['clean_text'])][0]"
   ]
  },
  {
   "cell_type": "code",
   "execution_count": 7,
   "id": "fc240efd",
   "metadata": {},
   "outputs": [],
   "source": [
    "vectorizer = CountVectorizer(analyzer='word',       \n",
    "                             min_df=1,\n",
    "                             stop_words='english',             \n",
    "                             lowercase=True,                   \n",
    "                             token_pattern='[a-zA-Z0-9]{3,}') \n",
    "data_vectorized = vectorizer.fit_transform(df['clean_text'])\n",
    "\n",
    "lda_model = LatentDirichletAllocation(n_components=20, max_iter=10,learning_method='online',   \n",
    "                                      random_state=100,          \n",
    "                                      batch_size=128,            \n",
    "                                      evaluate_every = -1,       \n",
    "                                      n_jobs = -1,               \n",
    "                                     )\n",
    "lda_output = lda_model.fit_transform(data_vectorized)\n",
    "print(lda_model)  # Model attributesd\n",
    "\n",
    "# Log Likelyhood: Higher the better\n",
    "print(\"Log Likelihood: \", lda_model.score(data_vectorized))\n",
    "# Perplexity: Lower the better. Perplexity = exp(-1. * log-likelihood per word)\n",
    "print(\"Perplexity: \", lda_model.perplexity(data_vectorized))\n",
    "# See model parameters\n",
    "pprint(lda_model.get_params())\n",
    "\n",
    "# Define Search Param\n",
    "search_params = {'n_components': [10, 15, 20, 25, 30], 'learning_decay': [.5, .7, .9]}\n",
    "# Init the Model\n",
    "lda = LatentDirichletAllocation(max_iter=5, learning_method='online', learning_offset=50.,random_state=0)\n",
    "# Init Grid Search Class\n",
    "model = GridSearchCV(lda, param_grid=search_params)\n",
    "# Do the Grid Search\n",
    "model.fit(data_vectorized)\n",
    "\n",
    "# Best Model\n",
    "best_lda_model = model.best_estimator_\n",
    "# Model Parameters\n",
    "print(\"Best Model's Params: \", model.best_params_)\n",
    "# Log Likelihood Score\n",
    "print(\"Best Log Likelihood Score: \", model.best_score_)\n",
    "# Perplexity\n",
    "print(\"Model Perplexity: \", best_lda_model.perplexity(data_vectorized))\n",
    "\n",
    "# Topic-Keyword Matrix\n",
    "df_topic_keywords = pd.DataFrame(best_lda_model.components_)\n",
    "# Assign Column and Index\n",
    "df_topic_keywords.columns = vectorizer.get_feature_names()\n",
    "df_topic_keywords.index = topicnames\n",
    "# View\n",
    "df_topic_keywords.head()"
   ]
  },
  {
   "cell_type": "code",
   "execution_count": 122,
   "id": "0b645714",
   "metadata": {},
   "outputs": [
    {
     "data": {
      "text/html": [
       "<style  type=\"text/css\" >\n",
       "#T_ee474e30_d6c3_11eb_9fee_20c9d0c01d49row0_col0,#T_ee474e30_d6c3_11eb_9fee_20c9d0c01d49row0_col2,#T_ee474e30_d6c3_11eb_9fee_20c9d0c01d49row0_col3,#T_ee474e30_d6c3_11eb_9fee_20c9d0c01d49row0_col4,#T_ee474e30_d6c3_11eb_9fee_20c9d0c01d49row0_col5,#T_ee474e30_d6c3_11eb_9fee_20c9d0c01d49row0_col6,#T_ee474e30_d6c3_11eb_9fee_20c9d0c01d49row0_col7,#T_ee474e30_d6c3_11eb_9fee_20c9d0c01d49row0_col8,#T_ee474e30_d6c3_11eb_9fee_20c9d0c01d49row0_col9,#T_ee474e30_d6c3_11eb_9fee_20c9d0c01d49row1_col0,#T_ee474e30_d6c3_11eb_9fee_20c9d0c01d49row1_col1,#T_ee474e30_d6c3_11eb_9fee_20c9d0c01d49row1_col2,#T_ee474e30_d6c3_11eb_9fee_20c9d0c01d49row1_col3,#T_ee474e30_d6c3_11eb_9fee_20c9d0c01d49row1_col4,#T_ee474e30_d6c3_11eb_9fee_20c9d0c01d49row1_col5,#T_ee474e30_d6c3_11eb_9fee_20c9d0c01d49row1_col6,#T_ee474e30_d6c3_11eb_9fee_20c9d0c01d49row1_col8,#T_ee474e30_d6c3_11eb_9fee_20c9d0c01d49row1_col9,#T_ee474e30_d6c3_11eb_9fee_20c9d0c01d49row2_col0,#T_ee474e30_d6c3_11eb_9fee_20c9d0c01d49row2_col1,#T_ee474e30_d6c3_11eb_9fee_20c9d0c01d49row2_col2,#T_ee474e30_d6c3_11eb_9fee_20c9d0c01d49row2_col3,#T_ee474e30_d6c3_11eb_9fee_20c9d0c01d49row2_col4,#T_ee474e30_d6c3_11eb_9fee_20c9d0c01d49row2_col5,#T_ee474e30_d6c3_11eb_9fee_20c9d0c01d49row2_col6,#T_ee474e30_d6c3_11eb_9fee_20c9d0c01d49row2_col8,#T_ee474e30_d6c3_11eb_9fee_20c9d0c01d49row2_col9,#T_ee474e30_d6c3_11eb_9fee_20c9d0c01d49row3_col0,#T_ee474e30_d6c3_11eb_9fee_20c9d0c01d49row3_col1,#T_ee474e30_d6c3_11eb_9fee_20c9d0c01d49row3_col2,#T_ee474e30_d6c3_11eb_9fee_20c9d0c01d49row3_col3,#T_ee474e30_d6c3_11eb_9fee_20c9d0c01d49row3_col4,#T_ee474e30_d6c3_11eb_9fee_20c9d0c01d49row3_col5,#T_ee474e30_d6c3_11eb_9fee_20c9d0c01d49row3_col6,#T_ee474e30_d6c3_11eb_9fee_20c9d0c01d49row3_col8,#T_ee474e30_d6c3_11eb_9fee_20c9d0c01d49row3_col9,#T_ee474e30_d6c3_11eb_9fee_20c9d0c01d49row4_col0,#T_ee474e30_d6c3_11eb_9fee_20c9d0c01d49row4_col1,#T_ee474e30_d6c3_11eb_9fee_20c9d0c01d49row4_col2,#T_ee474e30_d6c3_11eb_9fee_20c9d0c01d49row4_col3,#T_ee474e30_d6c3_11eb_9fee_20c9d0c01d49row4_col4,#T_ee474e30_d6c3_11eb_9fee_20c9d0c01d49row4_col5,#T_ee474e30_d6c3_11eb_9fee_20c9d0c01d49row4_col6,#T_ee474e30_d6c3_11eb_9fee_20c9d0c01d49row4_col8,#T_ee474e30_d6c3_11eb_9fee_20c9d0c01d49row4_col9{\n",
       "            color:  black;\n",
       "            font-weight:  400;\n",
       "        }#T_ee474e30_d6c3_11eb_9fee_20c9d0c01d49row0_col1,#T_ee474e30_d6c3_11eb_9fee_20c9d0c01d49row0_col10,#T_ee474e30_d6c3_11eb_9fee_20c9d0c01d49row1_col7,#T_ee474e30_d6c3_11eb_9fee_20c9d0c01d49row1_col10,#T_ee474e30_d6c3_11eb_9fee_20c9d0c01d49row2_col7,#T_ee474e30_d6c3_11eb_9fee_20c9d0c01d49row2_col10,#T_ee474e30_d6c3_11eb_9fee_20c9d0c01d49row3_col7,#T_ee474e30_d6c3_11eb_9fee_20c9d0c01d49row3_col10,#T_ee474e30_d6c3_11eb_9fee_20c9d0c01d49row4_col7,#T_ee474e30_d6c3_11eb_9fee_20c9d0c01d49row4_col10{\n",
       "            color:  green;\n",
       "            font-weight:  700;\n",
       "        }</style><table id=\"T_ee474e30_d6c3_11eb_9fee_20c9d0c01d49\" ><thead>    <tr>        <th class=\"blank level0\" ></th>        <th class=\"col_heading level0 col0\" >comfort_food_Topic0</th>        <th class=\"col_heading level0 col1\" >comfort_food_Topic1</th>        <th class=\"col_heading level0 col2\" >comfort_food_Topic2</th>        <th class=\"col_heading level0 col3\" >comfort_food_Topic3</th>        <th class=\"col_heading level0 col4\" >comfort_food_Topic4</th>        <th class=\"col_heading level0 col5\" >comfort_food_Topic5</th>        <th class=\"col_heading level0 col6\" >comfort_food_Topic6</th>        <th class=\"col_heading level0 col7\" >comfort_food_Topic7</th>        <th class=\"col_heading level0 col8\" >comfort_food_Topic8</th>        <th class=\"col_heading level0 col9\" >comfort_food_Topic9</th>        <th class=\"col_heading level0 col10\" >dominant_topic</th>    </tr></thead><tbody>\n",
       "                <tr>\n",
       "                        <th id=\"T_ee474e30_d6c3_11eb_9fee_20c9d0c01d49level0_row0\" class=\"row_heading level0 row0\" >Doc0</th>\n",
       "                        <td id=\"T_ee474e30_d6c3_11eb_9fee_20c9d0c01d49row0_col0\" class=\"data row0 col0\" >0.030000</td>\n",
       "                        <td id=\"T_ee474e30_d6c3_11eb_9fee_20c9d0c01d49row0_col1\" class=\"data row0 col1\" >0.700000</td>\n",
       "                        <td id=\"T_ee474e30_d6c3_11eb_9fee_20c9d0c01d49row0_col2\" class=\"data row0 col2\" >0.030000</td>\n",
       "                        <td id=\"T_ee474e30_d6c3_11eb_9fee_20c9d0c01d49row0_col3\" class=\"data row0 col3\" >0.030000</td>\n",
       "                        <td id=\"T_ee474e30_d6c3_11eb_9fee_20c9d0c01d49row0_col4\" class=\"data row0 col4\" >0.030000</td>\n",
       "                        <td id=\"T_ee474e30_d6c3_11eb_9fee_20c9d0c01d49row0_col5\" class=\"data row0 col5\" >0.030000</td>\n",
       "                        <td id=\"T_ee474e30_d6c3_11eb_9fee_20c9d0c01d49row0_col6\" class=\"data row0 col6\" >0.030000</td>\n",
       "                        <td id=\"T_ee474e30_d6c3_11eb_9fee_20c9d0c01d49row0_col7\" class=\"data row0 col7\" >0.030000</td>\n",
       "                        <td id=\"T_ee474e30_d6c3_11eb_9fee_20c9d0c01d49row0_col8\" class=\"data row0 col8\" >0.030000</td>\n",
       "                        <td id=\"T_ee474e30_d6c3_11eb_9fee_20c9d0c01d49row0_col9\" class=\"data row0 col9\" >0.030000</td>\n",
       "                        <td id=\"T_ee474e30_d6c3_11eb_9fee_20c9d0c01d49row0_col10\" class=\"data row0 col10\" >1</td>\n",
       "            </tr>\n",
       "            <tr>\n",
       "                        <th id=\"T_ee474e30_d6c3_11eb_9fee_20c9d0c01d49level0_row1\" class=\"row_heading level0 row1\" >Doc1</th>\n",
       "                        <td id=\"T_ee474e30_d6c3_11eb_9fee_20c9d0c01d49row1_col0\" class=\"data row1 col0\" >0.030000</td>\n",
       "                        <td id=\"T_ee474e30_d6c3_11eb_9fee_20c9d0c01d49row1_col1\" class=\"data row1 col1\" >0.030000</td>\n",
       "                        <td id=\"T_ee474e30_d6c3_11eb_9fee_20c9d0c01d49row1_col2\" class=\"data row1 col2\" >0.030000</td>\n",
       "                        <td id=\"T_ee474e30_d6c3_11eb_9fee_20c9d0c01d49row1_col3\" class=\"data row1 col3\" >0.030000</td>\n",
       "                        <td id=\"T_ee474e30_d6c3_11eb_9fee_20c9d0c01d49row1_col4\" class=\"data row1 col4\" >0.030000</td>\n",
       "                        <td id=\"T_ee474e30_d6c3_11eb_9fee_20c9d0c01d49row1_col5\" class=\"data row1 col5\" >0.030000</td>\n",
       "                        <td id=\"T_ee474e30_d6c3_11eb_9fee_20c9d0c01d49row1_col6\" class=\"data row1 col6\" >0.030000</td>\n",
       "                        <td id=\"T_ee474e30_d6c3_11eb_9fee_20c9d0c01d49row1_col7\" class=\"data row1 col7\" >0.770000</td>\n",
       "                        <td id=\"T_ee474e30_d6c3_11eb_9fee_20c9d0c01d49row1_col8\" class=\"data row1 col8\" >0.030000</td>\n",
       "                        <td id=\"T_ee474e30_d6c3_11eb_9fee_20c9d0c01d49row1_col9\" class=\"data row1 col9\" >0.030000</td>\n",
       "                        <td id=\"T_ee474e30_d6c3_11eb_9fee_20c9d0c01d49row1_col10\" class=\"data row1 col10\" >7</td>\n",
       "            </tr>\n",
       "            <tr>\n",
       "                        <th id=\"T_ee474e30_d6c3_11eb_9fee_20c9d0c01d49level0_row2\" class=\"row_heading level0 row2\" >Doc2</th>\n",
       "                        <td id=\"T_ee474e30_d6c3_11eb_9fee_20c9d0c01d49row2_col0\" class=\"data row2 col0\" >0.030000</td>\n",
       "                        <td id=\"T_ee474e30_d6c3_11eb_9fee_20c9d0c01d49row2_col1\" class=\"data row2 col1\" >0.030000</td>\n",
       "                        <td id=\"T_ee474e30_d6c3_11eb_9fee_20c9d0c01d49row2_col2\" class=\"data row2 col2\" >0.030000</td>\n",
       "                        <td id=\"T_ee474e30_d6c3_11eb_9fee_20c9d0c01d49row2_col3\" class=\"data row2 col3\" >0.030000</td>\n",
       "                        <td id=\"T_ee474e30_d6c3_11eb_9fee_20c9d0c01d49row2_col4\" class=\"data row2 col4\" >0.030000</td>\n",
       "                        <td id=\"T_ee474e30_d6c3_11eb_9fee_20c9d0c01d49row2_col5\" class=\"data row2 col5\" >0.030000</td>\n",
       "                        <td id=\"T_ee474e30_d6c3_11eb_9fee_20c9d0c01d49row2_col6\" class=\"data row2 col6\" >0.030000</td>\n",
       "                        <td id=\"T_ee474e30_d6c3_11eb_9fee_20c9d0c01d49row2_col7\" class=\"data row2 col7\" >0.700000</td>\n",
       "                        <td id=\"T_ee474e30_d6c3_11eb_9fee_20c9d0c01d49row2_col8\" class=\"data row2 col8\" >0.030000</td>\n",
       "                        <td id=\"T_ee474e30_d6c3_11eb_9fee_20c9d0c01d49row2_col9\" class=\"data row2 col9\" >0.030000</td>\n",
       "                        <td id=\"T_ee474e30_d6c3_11eb_9fee_20c9d0c01d49row2_col10\" class=\"data row2 col10\" >7</td>\n",
       "            </tr>\n",
       "            <tr>\n",
       "                        <th id=\"T_ee474e30_d6c3_11eb_9fee_20c9d0c01d49level0_row3\" class=\"row_heading level0 row3\" >Doc3</th>\n",
       "                        <td id=\"T_ee474e30_d6c3_11eb_9fee_20c9d0c01d49row3_col0\" class=\"data row3 col0\" >0.050000</td>\n",
       "                        <td id=\"T_ee474e30_d6c3_11eb_9fee_20c9d0c01d49row3_col1\" class=\"data row3 col1\" >0.050000</td>\n",
       "                        <td id=\"T_ee474e30_d6c3_11eb_9fee_20c9d0c01d49row3_col2\" class=\"data row3 col2\" >0.050000</td>\n",
       "                        <td id=\"T_ee474e30_d6c3_11eb_9fee_20c9d0c01d49row3_col3\" class=\"data row3 col3\" >0.050000</td>\n",
       "                        <td id=\"T_ee474e30_d6c3_11eb_9fee_20c9d0c01d49row3_col4\" class=\"data row3 col4\" >0.050000</td>\n",
       "                        <td id=\"T_ee474e30_d6c3_11eb_9fee_20c9d0c01d49row3_col5\" class=\"data row3 col5\" >0.050000</td>\n",
       "                        <td id=\"T_ee474e30_d6c3_11eb_9fee_20c9d0c01d49row3_col6\" class=\"data row3 col6\" >0.050000</td>\n",
       "                        <td id=\"T_ee474e30_d6c3_11eb_9fee_20c9d0c01d49row3_col7\" class=\"data row3 col7\" >0.550000</td>\n",
       "                        <td id=\"T_ee474e30_d6c3_11eb_9fee_20c9d0c01d49row3_col8\" class=\"data row3 col8\" >0.050000</td>\n",
       "                        <td id=\"T_ee474e30_d6c3_11eb_9fee_20c9d0c01d49row3_col9\" class=\"data row3 col9\" >0.050000</td>\n",
       "                        <td id=\"T_ee474e30_d6c3_11eb_9fee_20c9d0c01d49row3_col10\" class=\"data row3 col10\" >7</td>\n",
       "            </tr>\n",
       "            <tr>\n",
       "                        <th id=\"T_ee474e30_d6c3_11eb_9fee_20c9d0c01d49level0_row4\" class=\"row_heading level0 row4\" >Doc4</th>\n",
       "                        <td id=\"T_ee474e30_d6c3_11eb_9fee_20c9d0c01d49row4_col0\" class=\"data row4 col0\" >0.030000</td>\n",
       "                        <td id=\"T_ee474e30_d6c3_11eb_9fee_20c9d0c01d49row4_col1\" class=\"data row4 col1\" >0.030000</td>\n",
       "                        <td id=\"T_ee474e30_d6c3_11eb_9fee_20c9d0c01d49row4_col2\" class=\"data row4 col2\" >0.030000</td>\n",
       "                        <td id=\"T_ee474e30_d6c3_11eb_9fee_20c9d0c01d49row4_col3\" class=\"data row4 col3\" >0.030000</td>\n",
       "                        <td id=\"T_ee474e30_d6c3_11eb_9fee_20c9d0c01d49row4_col4\" class=\"data row4 col4\" >0.030000</td>\n",
       "                        <td id=\"T_ee474e30_d6c3_11eb_9fee_20c9d0c01d49row4_col5\" class=\"data row4 col5\" >0.030000</td>\n",
       "                        <td id=\"T_ee474e30_d6c3_11eb_9fee_20c9d0c01d49row4_col6\" class=\"data row4 col6\" >0.030000</td>\n",
       "                        <td id=\"T_ee474e30_d6c3_11eb_9fee_20c9d0c01d49row4_col7\" class=\"data row4 col7\" >0.770000</td>\n",
       "                        <td id=\"T_ee474e30_d6c3_11eb_9fee_20c9d0c01d49row4_col8\" class=\"data row4 col8\" >0.030000</td>\n",
       "                        <td id=\"T_ee474e30_d6c3_11eb_9fee_20c9d0c01d49row4_col9\" class=\"data row4 col9\" >0.030000</td>\n",
       "                        <td id=\"T_ee474e30_d6c3_11eb_9fee_20c9d0c01d49row4_col10\" class=\"data row4 col10\" >7</td>\n",
       "            </tr>\n",
       "    </tbody></table>"
      ],
      "text/plain": [
       "<pandas.io.formats.style.Styler at 0x7fb618e272b0>"
      ]
     },
     "execution_count": 122,
     "metadata": {},
     "output_type": "execute_result"
    }
   ],
   "source": [
    "data= df.text\n",
    "# Create Document — Topic Matrix\n",
    "lda_output = best_lda_model.transform(data_vectorized)\n",
    "# column names\n",
    "topicnames = [\"comfort_food_Topic\" + str(i) for i in range(best_lda_model.n_components)]\n",
    "# index names\n",
    "docnames = [\"Doc\" + str(i) for i in range(len(data))]\n",
    "# Make the pandas dataframe\n",
    "df_document_topic = pd.DataFrame(np.round(lda_output, 2), columns=topicnames, index=docnames)\n",
    "# Get dominant topic for each document\n",
    "dominant_topic = np.argmax(df_document_topic.values, axis=1)\n",
    "df_document_topic['dominant_topic'] = dominant_topic\n",
    "# Styling\n",
    "def color_green(val):\n",
    " color = 'green' if val > .1 else 'black'\n",
    " return 'color: {col}'.format(col=color)\n",
    "def make_bold(val):\n",
    " weight = 700 if val > .1 else 400\n",
    " return 'font-weight: {weight}'.format(weight=weight)\n",
    "# Apply Style\n",
    "df_document_topics = df_document_topic.head(5).style.applymap(color_green).applymap(make_bold)\n",
    "df_document_topics"
   ]
  },
  {
   "cell_type": "code",
   "execution_count": 83,
   "id": "4122e92e",
   "metadata": {},
   "outputs": [],
   "source": [
    "df_with_cols= pd.concat([df.reset_index(),df_document_topic.reset_index()] , axis=1)"
   ]
  },
  {
   "cell_type": "code",
   "execution_count": 120,
   "id": "c123d709",
   "metadata": {},
   "outputs": [
    {
     "data": {
      "text/html": [
       "<div>\n",
       "<style scoped>\n",
       "    .dataframe tbody tr th:only-of-type {\n",
       "        vertical-align: middle;\n",
       "    }\n",
       "\n",
       "    .dataframe tbody tr th {\n",
       "        vertical-align: top;\n",
       "    }\n",
       "\n",
       "    .dataframe thead th {\n",
       "        text-align: right;\n",
       "    }\n",
       "</style>\n",
       "<table border=\"1\" class=\"dataframe\">\n",
       "  <thead>\n",
       "    <tr style=\"text-align: right;\">\n",
       "      <th></th>\n",
       "      <th>comfort_food_reasons</th>\n",
       "      <th>comfort_food_Topic1</th>\n",
       "      <th>comfort_food_Topic2</th>\n",
       "      <th>comfort_food_Topic3</th>\n",
       "      <th>comfort_food_Topic4</th>\n",
       "      <th>comfort_food_Topic5</th>\n",
       "      <th>dominant_topic</th>\n",
       "    </tr>\n",
       "  </thead>\n",
       "  <tbody>\n",
       "    <tr>\n",
       "      <th>0</th>\n",
       "      <td>we dont have comfort</td>\n",
       "      <td>0.70</td>\n",
       "      <td>0.03</td>\n",
       "      <td>0.03</td>\n",
       "      <td>0.03</td>\n",
       "      <td>0.03</td>\n",
       "      <td>1</td>\n",
       "    </tr>\n",
       "    <tr>\n",
       "      <th>1</th>\n",
       "      <td>Stress, bored, anger</td>\n",
       "      <td>0.03</td>\n",
       "      <td>0.03</td>\n",
       "      <td>0.03</td>\n",
       "      <td>0.03</td>\n",
       "      <td>0.03</td>\n",
       "      <td>7</td>\n",
       "    </tr>\n",
       "    <tr>\n",
       "      <th>2</th>\n",
       "      <td>stress, sadness</td>\n",
       "      <td>0.03</td>\n",
       "      <td>0.03</td>\n",
       "      <td>0.03</td>\n",
       "      <td>0.03</td>\n",
       "      <td>0.03</td>\n",
       "      <td>7</td>\n",
       "    </tr>\n",
       "    <tr>\n",
       "      <th>3</th>\n",
       "      <td>Boredom</td>\n",
       "      <td>0.05</td>\n",
       "      <td>0.05</td>\n",
       "      <td>0.05</td>\n",
       "      <td>0.05</td>\n",
       "      <td>0.05</td>\n",
       "      <td>7</td>\n",
       "    </tr>\n",
       "    <tr>\n",
       "      <th>4</th>\n",
       "      <td>Stress, boredom, cravings</td>\n",
       "      <td>0.03</td>\n",
       "      <td>0.03</td>\n",
       "      <td>0.03</td>\n",
       "      <td>0.03</td>\n",
       "      <td>0.03</td>\n",
       "      <td>7</td>\n",
       "    </tr>\n",
       "    <tr>\n",
       "      <th>...</th>\n",
       "      <td>...</td>\n",
       "      <td>...</td>\n",
       "      <td>...</td>\n",
       "      <td>...</td>\n",
       "      <td>...</td>\n",
       "      <td>...</td>\n",
       "      <td>...</td>\n",
       "    </tr>\n",
       "    <tr>\n",
       "      <th>120</th>\n",
       "      <td>boredom and sadness</td>\n",
       "      <td>0.03</td>\n",
       "      <td>0.03</td>\n",
       "      <td>0.03</td>\n",
       "      <td>0.03</td>\n",
       "      <td>0.03</td>\n",
       "      <td>7</td>\n",
       "    </tr>\n",
       "    <tr>\n",
       "      <th>121</th>\n",
       "      <td>Loneliness / Homesick / Sadness</td>\n",
       "      <td>0.03</td>\n",
       "      <td>0.03</td>\n",
       "      <td>0.03</td>\n",
       "      <td>0.03</td>\n",
       "      <td>0.03</td>\n",
       "      <td>7</td>\n",
       "    </tr>\n",
       "    <tr>\n",
       "      <th>122</th>\n",
       "      <td>sadness</td>\n",
       "      <td>0.05</td>\n",
       "      <td>0.05</td>\n",
       "      <td>0.05</td>\n",
       "      <td>0.05</td>\n",
       "      <td>0.05</td>\n",
       "      <td>7</td>\n",
       "    </tr>\n",
       "    <tr>\n",
       "      <th>123</th>\n",
       "      <td>happiness, they are some of my favorite foods</td>\n",
       "      <td>0.03</td>\n",
       "      <td>0.03</td>\n",
       "      <td>0.03</td>\n",
       "      <td>0.03</td>\n",
       "      <td>0.03</td>\n",
       "      <td>6</td>\n",
       "    </tr>\n",
       "    <tr>\n",
       "      <th>124</th>\n",
       "      <td>hormones, Premenstrual syndrome.</td>\n",
       "      <td>0.03</td>\n",
       "      <td>0.77</td>\n",
       "      <td>0.03</td>\n",
       "      <td>0.03</td>\n",
       "      <td>0.03</td>\n",
       "      <td>2</td>\n",
       "    </tr>\n",
       "  </tbody>\n",
       "</table>\n",
       "<p>125 rows × 7 columns</p>\n",
       "</div>"
      ],
      "text/plain": [
       "                              comfort_food_reasons  comfort_food_Topic1  \\\n",
       "0                            we dont have comfort                  0.70   \n",
       "1                             Stress, bored, anger                 0.03   \n",
       "2                                  stress, sadness                 0.03   \n",
       "3                                          Boredom                 0.05   \n",
       "4                       Stress, boredom, cravings                  0.03   \n",
       "..                                             ...                  ...   \n",
       "120                           boredom and sadness                  0.03   \n",
       "121                Loneliness / Homesick / Sadness                 0.03   \n",
       "122                                        sadness                 0.05   \n",
       "123  happiness, they are some of my favorite foods                 0.03   \n",
       "124               hormones, Premenstrual syndrome.                 0.03   \n",
       "\n",
       "     comfort_food_Topic2  comfort_food_Topic3  comfort_food_Topic4  \\\n",
       "0                   0.03                 0.03                 0.03   \n",
       "1                   0.03                 0.03                 0.03   \n",
       "2                   0.03                 0.03                 0.03   \n",
       "3                   0.05                 0.05                 0.05   \n",
       "4                   0.03                 0.03                 0.03   \n",
       "..                   ...                  ...                  ...   \n",
       "120                 0.03                 0.03                 0.03   \n",
       "121                 0.03                 0.03                 0.03   \n",
       "122                 0.05                 0.05                 0.05   \n",
       "123                 0.03                 0.03                 0.03   \n",
       "124                 0.77                 0.03                 0.03   \n",
       "\n",
       "     comfort_food_Topic5  dominant_topic  \n",
       "0                   0.03               1  \n",
       "1                   0.03               7  \n",
       "2                   0.03               7  \n",
       "3                   0.05               7  \n",
       "4                   0.03               7  \n",
       "..                   ...             ...  \n",
       "120                 0.03               7  \n",
       "121                 0.03               7  \n",
       "122                 0.05               7  \n",
       "123                 0.03               6  \n",
       "124                 0.03               2  \n",
       "\n",
       "[125 rows x 7 columns]"
      ]
     },
     "execution_count": 120,
     "metadata": {},
     "output_type": "execute_result"
    }
   ],
   "source": [
    "df_with_cols[['comfort_food_reasons','comfort_food_Topic1','comfort_food_Topic2','comfort_food_Topic3',\n",
    "              'comfort_food_Topic4','comfort_food_Topic5','dominant_topic']]"
   ]
  },
  {
   "cell_type": "markdown",
   "id": "c9b95a09",
   "metadata": {},
   "source": [
    "the above data shows, the probability of a comfort_food_reasons falling into one of seven topics. This can be directly used in modelling"
   ]
  },
  {
   "cell_type": "markdown",
   "id": "4bb5681a",
   "metadata": {},
   "source": [
    "# 1.4 ********************************Insights in data********************************\n"
   ]
  },
  {
   "cell_type": "code",
   "execution_count": 1,
   "id": "360e8d25",
   "metadata": {},
   "outputs": [],
   "source": [
    "import pandas as pd\n",
    "df=pd.read_csv('food_coded.csv')"
   ]
  },
  {
   "cell_type": "code",
   "execution_count": 2,
   "id": "aa7b7810",
   "metadata": {},
   "outputs": [
    {
     "data": {
      "text/plain": [
       "Index(['GPA', 'Gender', 'breakfast', 'calories_chicken', 'calories_day',\n",
       "       'calories_scone', 'coffee', 'comfort_food', 'comfort_food_reasons',\n",
       "       'comfort_food_reasons_coded', 'cook', 'comfort_food_reasons_coded.1',\n",
       "       'cuisine', 'diet_current', 'diet_current_coded', 'drink',\n",
       "       'eating_changes', 'eating_changes_coded', 'eating_changes_coded1',\n",
       "       'eating_out', 'employment', 'ethnic_food', 'exercise',\n",
       "       'father_education', 'father_profession', 'fav_cuisine',\n",
       "       'fav_cuisine_coded', 'fav_food', 'food_childhood', 'fries', 'fruit_day',\n",
       "       'grade_level', 'greek_food', 'healthy_feeling', 'healthy_meal',\n",
       "       'ideal_diet', 'ideal_diet_coded', 'income', 'indian_food',\n",
       "       'italian_food', 'life_rewarding', 'marital_status',\n",
       "       'meals_dinner_friend', 'mother_education', 'mother_profession',\n",
       "       'nutritional_check', 'on_off_campus', 'parents_cook', 'pay_meal_out',\n",
       "       'persian_food', 'self_perception_weight', 'soup', 'sports', 'thai_food',\n",
       "       'tortilla_calories', 'turkey_calories', 'type_sports', 'veggies_day',\n",
       "       'vitamins', 'waffle_calories', 'weight'],\n",
       "      dtype='object')"
      ]
     },
     "execution_count": 2,
     "metadata": {},
     "output_type": "execute_result"
    }
   ],
   "source": [
    "df.columns"
   ]
  },
  {
   "cell_type": "code",
   "execution_count": 23,
   "id": "c64c426a",
   "metadata": {},
   "outputs": [
    {
     "name": "stdout",
     "output_type": "stream",
     "text": [
      "Gender [2 1]\n",
      "breakfast [1 2]\n",
      "calories_chicken [430 610 720 265]\n",
      "calories_day [nan  3.  4.  2.]\n",
      "calories_scone [315. 420. 980.  nan]\n",
      "coffee [1 2]\n",
      "comfort_food_reasons_coded [ 9.  1.  2.  4.  3.  7.  6.  5.  8. nan]\n",
      "cook [ 2.  3.  1.  5.  4. nan]\n",
      "comfort_food_reasons_coded.1 [9 1 2 4 3 7 6 5]\n",
      "cuisine [nan  1.  3.  2.  6.  4.  5.]\n",
      "diet_current_coded [1 2 3 4]\n",
      "drink [ 1.  2. nan]\n",
      "eating_changes_coded [1 3 2 4]\n",
      "eating_out [3 2 1 5 4]\n",
      "employment [ 3.  2.  1. nan]\n",
      "ethnic_food [1 4 5 2 3]\n",
      "exercise [ 1.  2.  3. nan]\n",
      "father_education [ 5.  2.  4.  1.  3. nan]\n",
      "fav_cuisine_coded [3 1 6 4 5 7 2 8 0]\n",
      "fav_food [ 1.  3.  2. nan]\n",
      "fries [2 1]\n",
      "fruit_day [5 4 2 3 1]\n",
      "grade_level [2 4 3 1]\n",
      "greek_food [5 4 2 3 1]\n",
      "ideal_diet_coded [8 3 6 2 7 1 5 4]\n",
      "income [ 5.  4.  6.  1.  3.  2. nan]\n",
      "indian_food [5 4 2 1 3]\n",
      "italian_food [5 4 3]\n",
      "marital_status [ 1.  2.  4. nan]\n",
      "mother_education [ 1.  4.  2.  5.  3. nan]\n",
      "nutritional_check [5 4 2 3 1]\n",
      "on_off_campus [ 1.  2.  3.  4. nan]\n",
      "parents_cook [1 2 3 5]\n",
      "pay_meal_out [2 4 3 5 6]\n",
      "persian_food [ 5.  4.  2.  1.  3. nan]\n",
      "self_perception_weight [ 3.  6.  5.  4.  1.  2. nan]\n",
      "soup [ 1.  2. nan]\n",
      "sports [ 1.  2. nan]\n",
      "thai_food [1 2 5 4 3]\n",
      "tortilla_calories [1165.  725.  940.  580.   nan]\n",
      "turkey_calories [345 690 500 850]\n",
      "veggies_day [5 4 3 1 2]\n",
      "vitamins [1 2]\n",
      "waffle_calories [1315  900  760  575]\n"
     ]
    }
   ],
   "source": [
    "# Understanding the unique columns\n",
    "col_list=[]\n",
    "for col in df.columns:\n",
    "    if( df[col].nunique()<10):\n",
    "        print(col, df[col].unique())\n",
    "        col_list.append(col)"
   ]
  },
  {
   "cell_type": "code",
   "execution_count": 25,
   "id": "bd1c1540",
   "metadata": {},
   "outputs": [],
   "source": [
    "t=df[col_list].corr()"
   ]
  },
  {
   "cell_type": "code",
   "execution_count": 55,
   "id": "07cf2c3a",
   "metadata": {},
   "outputs": [],
   "source": [
    "# Understanding correlation between columns\n",
    "d= pd.DataFrame(columns=['column1','column2', 'correlation'])\n",
    "i=0\n",
    "for col in col_list[0: int(len(col_list)/2)]:\n",
    "    for col1 in col_list[int(len(col_list)/2):]:\n",
    "        if col!=col1:\n",
    "            corr=round(t.iloc[t.index==col][col1].values[0] ,2)\n",
    "            if(abs(corr)>0.3):\n",
    "                d=d.append(dict(zip( ['column1','column2', 'correlation'],\n",
    "                                 [col,col1, corr])) , True)\n"
   ]
  },
  {
   "cell_type": "code",
   "execution_count": 56,
   "id": "dff6e0c8",
   "metadata": {},
   "outputs": [
    {
     "data": {
      "text/html": [
       "<div>\n",
       "<style scoped>\n",
       "    .dataframe tbody tr th:only-of-type {\n",
       "        vertical-align: middle;\n",
       "    }\n",
       "\n",
       "    .dataframe tbody tr th {\n",
       "        vertical-align: top;\n",
       "    }\n",
       "\n",
       "    .dataframe thead th {\n",
       "        text-align: right;\n",
       "    }\n",
       "</style>\n",
       "<table border=\"1\" class=\"dataframe\">\n",
       "  <thead>\n",
       "    <tr style=\"text-align: right;\">\n",
       "      <th></th>\n",
       "      <th>column1</th>\n",
       "      <th>column2</th>\n",
       "      <th>correlation</th>\n",
       "    </tr>\n",
       "  </thead>\n",
       "  <tbody>\n",
       "    <tr>\n",
       "      <th>0</th>\n",
       "      <td>calories_chicken</td>\n",
       "      <td>tortilla_calories</td>\n",
       "      <td>0.38</td>\n",
       "    </tr>\n",
       "    <tr>\n",
       "      <th>1</th>\n",
       "      <td>calories_chicken</td>\n",
       "      <td>turkey_calories</td>\n",
       "      <td>0.40</td>\n",
       "    </tr>\n",
       "    <tr>\n",
       "      <th>2</th>\n",
       "      <td>calories_chicken</td>\n",
       "      <td>waffle_calories</td>\n",
       "      <td>0.35</td>\n",
       "    </tr>\n",
       "    <tr>\n",
       "      <th>3</th>\n",
       "      <td>calories_day</td>\n",
       "      <td>nutritional_check</td>\n",
       "      <td>0.36</td>\n",
       "    </tr>\n",
       "    <tr>\n",
       "      <th>4</th>\n",
       "      <td>calories_day</td>\n",
       "      <td>vitamins</td>\n",
       "      <td>-0.34</td>\n",
       "    </tr>\n",
       "    <tr>\n",
       "      <th>5</th>\n",
       "      <td>calories_scone</td>\n",
       "      <td>waffle_calories</td>\n",
       "      <td>0.36</td>\n",
       "    </tr>\n",
       "    <tr>\n",
       "      <th>6</th>\n",
       "      <td>ethnic_food</td>\n",
       "      <td>greek_food</td>\n",
       "      <td>0.55</td>\n",
       "    </tr>\n",
       "    <tr>\n",
       "      <th>7</th>\n",
       "      <td>ethnic_food</td>\n",
       "      <td>indian_food</td>\n",
       "      <td>0.62</td>\n",
       "    </tr>\n",
       "    <tr>\n",
       "      <th>8</th>\n",
       "      <td>ethnic_food</td>\n",
       "      <td>persian_food</td>\n",
       "      <td>0.59</td>\n",
       "    </tr>\n",
       "    <tr>\n",
       "      <th>9</th>\n",
       "      <td>ethnic_food</td>\n",
       "      <td>thai_food</td>\n",
       "      <td>0.68</td>\n",
       "    </tr>\n",
       "    <tr>\n",
       "      <th>10</th>\n",
       "      <td>ethnic_food</td>\n",
       "      <td>veggies_day</td>\n",
       "      <td>0.35</td>\n",
       "    </tr>\n",
       "    <tr>\n",
       "      <th>11</th>\n",
       "      <td>exercise</td>\n",
       "      <td>self_perception_weight</td>\n",
       "      <td>0.36</td>\n",
       "    </tr>\n",
       "    <tr>\n",
       "      <th>12</th>\n",
       "      <td>exercise</td>\n",
       "      <td>sports</td>\n",
       "      <td>0.42</td>\n",
       "    </tr>\n",
       "    <tr>\n",
       "      <th>13</th>\n",
       "      <td>father_education</td>\n",
       "      <td>income</td>\n",
       "      <td>0.32</td>\n",
       "    </tr>\n",
       "    <tr>\n",
       "      <th>14</th>\n",
       "      <td>father_education</td>\n",
       "      <td>mother_education</td>\n",
       "      <td>0.32</td>\n",
       "    </tr>\n",
       "    <tr>\n",
       "      <th>15</th>\n",
       "      <td>fav_cuisine_coded</td>\n",
       "      <td>income</td>\n",
       "      <td>-0.32</td>\n",
       "    </tr>\n",
       "    <tr>\n",
       "      <th>16</th>\n",
       "      <td>fries</td>\n",
       "      <td>vitamins</td>\n",
       "      <td>-0.32</td>\n",
       "    </tr>\n",
       "    <tr>\n",
       "      <th>17</th>\n",
       "      <td>fruit_day</td>\n",
       "      <td>veggies_day</td>\n",
       "      <td>0.65</td>\n",
       "    </tr>\n",
       "  </tbody>\n",
       "</table>\n",
       "</div>"
      ],
      "text/plain": [
       "              column1                 column2  correlation\n",
       "0    calories_chicken       tortilla_calories         0.38\n",
       "1    calories_chicken         turkey_calories         0.40\n",
       "2    calories_chicken         waffle_calories         0.35\n",
       "3        calories_day       nutritional_check         0.36\n",
       "4        calories_day                vitamins        -0.34\n",
       "5      calories_scone         waffle_calories         0.36\n",
       "6         ethnic_food              greek_food         0.55\n",
       "7         ethnic_food             indian_food         0.62\n",
       "8         ethnic_food            persian_food         0.59\n",
       "9         ethnic_food               thai_food         0.68\n",
       "10        ethnic_food             veggies_day         0.35\n",
       "11           exercise  self_perception_weight         0.36\n",
       "12           exercise                  sports         0.42\n",
       "13   father_education                  income         0.32\n",
       "14   father_education        mother_education         0.32\n",
       "15  fav_cuisine_coded                  income        -0.32\n",
       "16              fries                vitamins        -0.32\n",
       "17          fruit_day             veggies_day         0.65"
      ]
     },
     "execution_count": 56,
     "metadata": {},
     "output_type": "execute_result"
    }
   ],
   "source": [
    "d"
   ]
  },
  {
   "cell_type": "markdown",
   "id": "ae73d4b6",
   "metadata": {},
   "source": [
    "Contracdictory food items have a negative correlation as per the coded values in the data, for example, \n",
    "1. fries and vitamins have inverse correlation of -0.32, as in people who prefer fries in diet are likely to consume less vitamins, \n",
    "2. 'calories per day' and 'vitamins' have inverse coorleation, as in people who have high calories intake are likely to consume less vitamins.\n",
    "3. excercise and sports have high correlation which is likely as fiteness freak people are inclined to take up sports or excersise or both.\n",
    "4. ethnic food has high correlation with all sorts of ethnic food , like, greek food , indian food, persian food, thaoi food. That is how the data is coded."
   ]
  },
  {
   "cell_type": "markdown",
   "id": "14575f20",
   "metadata": {},
   "source": [
    "#  Random forest model to predict 'eating out'"
   ]
  },
  {
   "cell_type": "code",
   "execution_count": 81,
   "id": "5bfc25e7",
   "metadata": {},
   "outputs": [
    {
     "name": "stderr",
     "output_type": "stream",
     "text": [
      "<ipython-input-81-ab741fa71e4a>:9: DataConversionWarning: A column-vector y was passed when a 1d array was expected. Please change the shape of y to (n_samples,), for example using ravel().\n",
      "  rf.fit(X, y)\n"
     ]
    },
    {
     "data": {
      "text/plain": [
       "RandomForestClassifier(max_depth=2, random_state=0)"
      ]
     },
     "execution_count": 81,
     "metadata": {},
     "output_type": "execute_result"
    }
   ],
   "source": [
    "from sklearn.ensemble import RandomForestClassifier\n",
    "from sklearn.datasets import make_classification\n",
    "col_list_train= [x for x in col_list if x!='eating_out']\n",
    "df=df.fillna(0)\n",
    "target=['eating_out']\n",
    "X_train, y_train = df[col_list_train][0:100], df[target][0:100]\n",
    "X_test,y_test= df[col_list_train][50:], df[target][50:]\n",
    "rf = RandomForestClassifier(max_depth=2, random_state=0)\n",
    "rf.fit(X, y)\n"
   ]
  },
  {
   "cell_type": "code",
   "execution_count": 82,
   "id": "f3cbdb72",
   "metadata": {},
   "outputs": [
    {
     "name": "stdout",
     "output_type": "stream",
     "text": [
      "Final Training Accuracy: 52.0%\n",
      "Model Accuracy: 42.66666666666667%\n"
     ]
    }
   ],
   "source": [
    "# Performance metrics\n",
    "print(f'Final Training Accuracy: {rf.score(X_train,y_train)*100}%')\n",
    "print(f'Model Accuracy: {rf.score(X_test,y_test)*100}%')\n"
   ]
  },
  {
   "cell_type": "code",
   "execution_count": 79,
   "id": "d39be84f",
   "metadata": {},
   "outputs": [
    {
     "data": {
      "text/html": [
       "<div>\n",
       "<style scoped>\n",
       "    .dataframe tbody tr th:only-of-type {\n",
       "        vertical-align: middle;\n",
       "    }\n",
       "\n",
       "    .dataframe tbody tr th {\n",
       "        vertical-align: top;\n",
       "    }\n",
       "\n",
       "    .dataframe thead th {\n",
       "        text-align: right;\n",
       "    }\n",
       "</style>\n",
       "<table border=\"1\" class=\"dataframe\">\n",
       "  <thead>\n",
       "    <tr style=\"text-align: right;\">\n",
       "      <th></th>\n",
       "      <th>column</th>\n",
       "      <th>feature_imp</th>\n",
       "    </tr>\n",
       "  </thead>\n",
       "  <tbody>\n",
       "    <tr>\n",
       "      <th>8</th>\n",
       "      <td>comfort_food_reasons_coded.1</td>\n",
       "      <td>0.108156</td>\n",
       "    </tr>\n",
       "    <tr>\n",
       "      <th>31</th>\n",
       "      <td>parents_cook</td>\n",
       "      <td>0.099315</td>\n",
       "    </tr>\n",
       "    <tr>\n",
       "      <th>16</th>\n",
       "      <td>father_education</td>\n",
       "      <td>0.071103</td>\n",
       "    </tr>\n",
       "    <tr>\n",
       "      <th>6</th>\n",
       "      <td>comfort_food_reasons_coded</td>\n",
       "      <td>0.064894</td>\n",
       "    </tr>\n",
       "    <tr>\n",
       "      <th>9</th>\n",
       "      <td>cuisine</td>\n",
       "      <td>0.053161</td>\n",
       "    </tr>\n",
       "    <tr>\n",
       "      <th>14</th>\n",
       "      <td>ethnic_food</td>\n",
       "      <td>0.052565</td>\n",
       "    </tr>\n",
       "    <tr>\n",
       "      <th>25</th>\n",
       "      <td>indian_food</td>\n",
       "      <td>0.045467</td>\n",
       "    </tr>\n",
       "    <tr>\n",
       "      <th>24</th>\n",
       "      <td>income</td>\n",
       "      <td>0.031778</td>\n",
       "    </tr>\n",
       "    <tr>\n",
       "      <th>17</th>\n",
       "      <td>fav_cuisine_coded</td>\n",
       "      <td>0.031587</td>\n",
       "    </tr>\n",
       "    <tr>\n",
       "      <th>38</th>\n",
       "      <td>tortilla_calories</td>\n",
       "      <td>0.030041</td>\n",
       "    </tr>\n",
       "  </tbody>\n",
       "</table>\n",
       "</div>"
      ],
      "text/plain": [
       "                          column  feature_imp\n",
       "8   comfort_food_reasons_coded.1     0.108156\n",
       "31                  parents_cook     0.099315\n",
       "16              father_education     0.071103\n",
       "6     comfort_food_reasons_coded     0.064894\n",
       "9                        cuisine     0.053161\n",
       "14                   ethnic_food     0.052565\n",
       "25                   indian_food     0.045467\n",
       "24                        income     0.031778\n",
       "17             fav_cuisine_coded     0.031587\n",
       "38             tortilla_calories     0.030041"
      ]
     },
     "execution_count": 79,
     "metadata": {},
     "output_type": "execute_result"
    }
   ],
   "source": [
    "# Understanding important features\n",
    "t1=pd.DataFrame(columns=['column','feature_imp'])\n",
    "t1.column, t1.feature_imp= col_list_train, rf.feature_importances_\n",
    "t1.sort_values(by='feature_imp',ascending=False)[0:10]"
   ]
  },
  {
   "cell_type": "markdown",
   "id": "f1f14b02",
   "metadata": {},
   "source": [
    "A random forest model that predicts the 'eating out' variable based on all other variables that have categories fewer than 10 , gives out feature importances that shows that comfort_food_reasons is highly associated with the probability that a student is likely to eat out. Other than this 'parents_cook' has second highest association with 'eating_out'."
   ]
  },
  {
   "cell_type": "markdown",
   "id": "37eca30c",
   "metadata": {},
   "source": [
    "# Summary"
   ]
  },
  {
   "cell_type": "markdown",
   "id": "97523d44",
   "metadata": {},
   "source": [
    "The approach was to try out the basic approaches with data such as data cleaning techniques, data pre-processing techniques\n",
    "and moreover experimenting with new ways by trying out some metrics tests over data. There was no such predefined \n",
    "approach though I followed the basic practices for data analysis, I did some modelling too and tried some statistical \n",
    "methods as well so as to pull out insights from the data"
   ]
  },
  {
   "cell_type": "markdown",
   "id": "3101a3cb",
   "metadata": {},
   "source": [
    "# Challenges"
   ]
  },
  {
   "cell_type": "markdown",
   "id": "f313cc7b",
   "metadata": {},
   "source": [
    "Challenges:\n",
    "\n",
    "The main challenge was the unstructered data, some columns required lot of data cleaning. Many columns had open ended values, which required precise level of analysis. In unstructured data for example there were Nan values, unnecessary string, redundant characters were present. Lot of feature engineering was done for the same."
   ]
  },
  {
   "cell_type": "markdown",
   "id": "205e0261",
   "metadata": {},
   "source": [
    "# Conclusion"
   ]
  },
  {
   "cell_type": "markdown",
   "id": "9d5363da",
   "metadata": {},
   "source": [
    "Conclusion:\n",
    "\n",
    "Overall this dataset was a bit challenging but useful in some way for doing analysis. Some insights were drawn from the data.\n",
    "The dataset required lot of cleaning and feature engineering. Overall it is quite a learning experience, which helped to think\n",
    "on alll verticals related to statstical and predictive analysis of data. "
   ]
  }
 ],
 "metadata": {
  "kernelspec": {
   "display_name": "Python 3",
   "language": "python",
   "name": "python3"
  },
  "language_info": {
   "codemirror_mode": {
    "name": "ipython",
    "version": 3
   },
   "file_extension": ".py",
   "mimetype": "text/x-python",
   "name": "python",
   "nbconvert_exporter": "python",
   "pygments_lexer": "ipython3",
   "version": "3.8.8"
  }
 },
 "nbformat": 4,
 "nbformat_minor": 5
}
